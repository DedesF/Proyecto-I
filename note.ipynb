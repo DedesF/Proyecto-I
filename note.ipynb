{
 "cells": [
  {
   "cell_type": "code",
   "execution_count": 2,
   "metadata": {},
   "outputs": [],
   "source": [
    "import pandas as pd\n"
   ]
  },
  {
   "cell_type": "code",
   "execution_count": 23,
   "metadata": {},
   "outputs": [],
   "source": [
    "archivo = open(\"requirements.txt\", 'r')"
   ]
  },
  {
   "cell_type": "code",
   "execution_count": null,
   "metadata": {},
   "outputs": [],
   "source": [
    "lista = []\n",
    "for linea in archivo:\n",
    "    print(linea)"
   ]
  },
  {
   "cell_type": "code",
   "execution_count": 22,
   "metadata": {},
   "outputs": [],
   "source": [
    "# Define el carácter que deseas buscar\n",
    "char_to_find = '='  # Ejemplo con dos puntos (:)\n",
    "\n",
    "# Lee el archivo original y escribe las modificaciones en otro archivo\n",
    "with open(\"requirements.txt\", \"r\") as file:\n",
    "    lines = file.readlines()\n",
    "\n",
    "# Escribe el resultado en un nuevo archivo (o en el mismo si deseas sobrescribirlo)\n",
    "with open(\"requirements.txt\", \"w\") as file:\n",
    "    for line in lines:\n",
    "        if char_to_find in line:\n",
    "            # Recorta la línea hasta el primer carácter encontrado\n",
    "            line = line.split(char_to_find)[0]\n",
    "        file.write(line + \"\\n\")"
   ]
  }
 ],
 "metadata": {
  "kernelspec": {
   "display_name": "proyectouno",
   "language": "python",
   "name": "python3"
  },
  "language_info": {
   "codemirror_mode": {
    "name": "ipython",
    "version": 3
   },
   "file_extension": ".py",
   "mimetype": "text/x-python",
   "name": "python",
   "nbconvert_exporter": "python",
   "pygments_lexer": "ipython3",
   "version": "3.11.0"
  }
 },
 "nbformat": 4,
 "nbformat_minor": 2
}
