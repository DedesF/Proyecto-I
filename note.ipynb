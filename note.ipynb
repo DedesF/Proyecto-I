{
 "cells": [
  {
   "cell_type": "code",
   "execution_count": 21,
   "metadata": {},
   "outputs": [],
   "source": [
    "import pandas as pd\n",
    "from fastapi import FastAPI, HTTPException\n",
    "from datetime import date\n",
    "import unicodedata"
   ]
  },
  {
   "cell_type": "code",
   "execution_count": 55,
   "metadata": {},
   "outputs": [],
   "source": [
    "df = pd.read_csv('C:/Users/house/Desktop/joined_dataset.csv')\n",
    "df_dir = pd.read_csv('C:/Users/house/Desktop/directores.csv')\n",
    "df['release_date'] = pd.to_datetime(df['release_date'], errors='coerce')"
   ]
  },
  {
   "cell_type": "code",
   "execution_count": 56,
   "metadata": {},
   "outputs": [
    {
     "data": {
      "text/html": [
       "<div>\n",
       "<style scoped>\n",
       "    .dataframe tbody tr th:only-of-type {\n",
       "        vertical-align: middle;\n",
       "    }\n",
       "\n",
       "    .dataframe tbody tr th {\n",
       "        vertical-align: top;\n",
       "    }\n",
       "\n",
       "    .dataframe thead th {\n",
       "        text-align: right;\n",
       "    }\n",
       "</style>\n",
       "<table border=\"1\" class=\"dataframe\">\n",
       "  <thead>\n",
       "    <tr style=\"text-align: right;\">\n",
       "      <th></th>\n",
       "      <th>name</th>\n",
       "    </tr>\n",
       "  </thead>\n",
       "  <tbody>\n",
       "    <tr>\n",
       "      <th>0</th>\n",
       "      <td>John Lasseter</td>\n",
       "    </tr>\n",
       "    <tr>\n",
       "      <th>1</th>\n",
       "      <td>Joe Johnston</td>\n",
       "    </tr>\n",
       "    <tr>\n",
       "      <th>2</th>\n",
       "      <td>Howard Deutch</td>\n",
       "    </tr>\n",
       "    <tr>\n",
       "      <th>3</th>\n",
       "      <td>Forest Whitaker</td>\n",
       "    </tr>\n",
       "    <tr>\n",
       "      <th>4</th>\n",
       "      <td>Charles Shyer</td>\n",
       "    </tr>\n",
       "  </tbody>\n",
       "</table>\n",
       "</div>"
      ],
      "text/plain": [
       "              name\n",
       "0    John Lasseter\n",
       "1     Joe Johnston\n",
       "2    Howard Deutch\n",
       "3  Forest Whitaker\n",
       "4    Charles Shyer"
      ]
     },
     "execution_count": 56,
     "metadata": {},
     "output_type": "execute_result"
    }
   ],
   "source": [
    "df_dir.head(5)"
   ]
  },
  {
   "cell_type": "code",
   "execution_count": 14,
   "metadata": {},
   "outputs": [],
   "source": [
    "def cantidad_filmaciones_dia2(dia:str):\n",
    "    dia = dia.lower().strip()\n",
    "    dias_semana = ['lunes', 'martes', 'miercoles', 'jueves', 'viernes', 'sabado', 'domingo']\n",
    "    \n",
    "    # Validamos si el día es correcto\n",
    "    if dia not in dias_semana:\n",
    "        raise HTTPException(status_code=404, detail=\"Día no válido\")\n",
    "    \n",
    "    # Mapeamos cada día de la semana a su valor numérico (0 = lunes, ..., 6 = domingo)\n",
    "    dia_numero = {\n",
    "        'lunes': 0,\n",
    "        'martes': 1,\n",
    "        'miercoles': 2,\n",
    "        'jueves': 3,\n",
    "        'viernes': 4,\n",
    "        'sabado': 5,\n",
    "        'domingo': 6\n",
    "    }\n",
    "    \n",
    "    # Convertimos las fechas a números de día de la semana y contamos ocurrencias\n",
    "    matriz = df['release_date'].dt.dayofweek.value_counts()\n",
    "    cantidad = matriz.get(dia_numero[dia], 0)\n",
    "    \n",
    "    # Devolvemos el mensaje con el valor de cantidad\n",
    "    return {\"mensaje\": f\"{cantidad} cantidad de películas fueron estrenadas en los días {dia}\"}"
   ]
  },
  {
   "cell_type": "code",
   "execution_count": 42,
   "metadata": {},
   "outputs": [],
   "source": [
    "def cantidad_filmaciones_mes(mes:str):\n",
    "    mes = mes.lower().strip()\n",
    "    meses_anio = ['enero', 'febrero', 'marzo', 'abril', 'mayo', \n",
    "                'junio', 'julio', 'agosto', 'septiembre', 'octubre', \n",
    "                'noviembre', 'diciembre']\n",
    "    \n",
    "    # Validamos si el día es correcto\n",
    "    if mes not in meses_anio:\n",
    "        raise HTTPException(status_code=404, detail=\"Mes no válido\")\n",
    "    \n",
    "    # Mapeamos cada mes del año a su valor numérico (0 = enero, ..., 12 = diciembre)\n",
    "    mes_numero = {'enero': 1, 'febrero': 2, 'marzo': 3, 'abril': 4,\n",
    "                    'mayo': 5, 'junio': 6, 'julio': 7, 'agosto': 8,\n",
    "                    'septiembre': 9, 'octubre': 10, 'noviembre': 11, 'diciembre': 12}\n",
    "    \n",
    "    # Convertimos los meses a números de mes del año y contamos ocurrencias\n",
    "    matriz = df['release_date'].dt.month.value_counts()\n",
    "    cantidad = matriz.get(mes_numero[mes], 0)\n",
    "    \n",
    "    print(f\"{cantidad} cantidad de películas fueron estrenadas en el mes de {mes}\")"
   ]
  },
  {
   "cell_type": "code",
   "execution_count": 43,
   "metadata": {},
   "outputs": [
    {
     "name": "stdout",
     "output_type": "stream",
     "text": [
      "1065 cantidad de películas fueron estrenadas en el mes de diciembre\n"
     ]
    }
   ],
   "source": [
    "cantidad_filmaciones_mes('diciembre')"
   ]
  },
  {
   "cell_type": "code",
   "execution_count": 53,
   "metadata": {},
   "outputs": [],
   "source": [
    "def votos_titulo(titulo_de_la_filmacion:str):\n",
    "\n",
    "    titulo_de_la_filmacion = titulo_de_la_filmacion.title().strip() #Normalizamos el string\n",
    "    \n",
    "    row_number = df.index.get_loc(df[df['title'] == titulo_de_la_filmacion].index[0])\n",
    "    anio = int(df['year'][row_number])    \n",
    "    promedio = float(df['vote_average'][row_number])\n",
    "    val = int(df['vote_count'][row_number])\n",
    "    if int(df['vote_count'][row_number]) >= 2000:\n",
    "        print(f'La película {titulo_de_la_filmacion} fue estrenada en el año {anio}. La misma cuenta con un total de {val} valoraciones, con un promedio de {promedio}')\n",
    "    else:\n",
    "        print('La película tiene menos de 2000 valoraciones')"
   ]
  },
  {
   "cell_type": "code",
   "execution_count": 54,
   "metadata": {},
   "outputs": [
    {
     "name": "stdout",
     "output_type": "stream",
     "text": [
      "La película Jumanji fue estrenada en el año 1995. La misma cuenta con un total de 2413 valoraciones, con un promedio de 6.9\n"
     ]
    }
   ],
   "source": [
    "votos_titulo('jumanji')"
   ]
  },
  {
   "cell_type": "code",
   "execution_count": null,
   "metadata": {},
   "outputs": [],
   "source": [
    "def get_actor(nombre_actor:str):    \n",
    "    nombre_actor = nombre_actor.title().strip()\n",
    "\n",
    "    \n",
    "    try:\n",
    "        actores = df[df['cast'] == nombre_actor].iloc[0]\n",
    "    except IndexError:\n",
    "        raise HTTPException(status_code=404, detail=\"El actor no fue encontrado\")\n",
    "    \n",
    "    director = df_dir.query('name == @nombre_actor')\n",
    "    existencia = director['name'].count()\n",
    "\n",
    "    if existencia > 0:\n",
    "        print('El actor ha trabajado como director')\n",
    "\n",
    "    else:\n",
    "        matriz = df.query('cast == @nombre_actor')  \n",
    "        peliculas = matriz['id'].count()\n",
    "        retorno = matriz['return'].sum()\n",
    "        promedio = matriz['return'].mean()\n",
    "\n",
    "        print(f'El actor {nombre_actor} ha participado de {peliculas} cantidad de filmaciones, el mismo ha conseguido un retorno de {retorno} con un promedio de {promedio} por filmación')\n",
    "    "
   ]
  },
  {
   "cell_type": "code",
   "execution_count": 63,
   "metadata": {},
   "outputs": [
    {
     "name": "stdout",
     "output_type": "stream",
     "text": [
      "El actor Robin Williams ha participado de 32 cantidad de filmaciones, el mismo ha conseguido un retorno de 50.98922394518207 con un promedio de 1.5934132482869396 por filmación\n"
     ]
    }
   ],
   "source": [
    "get_actor('robin williams')"
   ]
  }
 ],
 "metadata": {
  "kernelspec": {
   "display_name": "proyectouno",
   "language": "python",
   "name": "python3"
  },
  "language_info": {
   "codemirror_mode": {
    "name": "ipython",
    "version": 3
   },
   "file_extension": ".py",
   "mimetype": "text/x-python",
   "name": "python",
   "nbconvert_exporter": "python",
   "pygments_lexer": "ipython3",
   "version": "3.11.0"
  }
 },
 "nbformat": 4,
 "nbformat_minor": 2
}
