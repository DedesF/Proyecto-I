{
 "cells": [
  {
   "cell_type": "code",
   "execution_count": 2,
   "metadata": {},
   "outputs": [],
   "source": [
    "import pandas as pd\n",
    "import numpy as np\n",
    "from sklearn.feature_extraction.text import CountVectorizer\n",
    "from sklearn.metrics.pairwise import cosine_similarity\n",
    "import ast\n",
    "import pickle"
   ]
  },
  {
   "cell_type": "code",
   "execution_count": 3,
   "metadata": {},
   "outputs": [
    {
     "name": "stderr",
     "output_type": "stream",
     "text": [
      "C:\\Users\\house\\AppData\\Local\\Temp\\ipykernel_26148\\204366351.py:1: DtypeWarning: Columns (10) have mixed types. Specify dtype option on import or set low_memory=False.\n",
      "  df_movies = pd.read_csv('C:\\Python\\HENRY-Data-Science\\Proyecto_1\\Datasets\\movies_dataset.csv', encoding='utf-8')\n"
     ]
    }
   ],
   "source": [
    "df_movies = pd.read_csv('C:\\Python\\HENRY-Data-Science\\Proyecto_1\\Datasets\\movies_dataset.csv', encoding='utf-8')\n",
    "df_credits = pd.read_csv('C:\\Python\\HENRY-Data-Science\\Proyecto_1\\Datasets\\credits.csv', encoding='utf-8')"
   ]
  },
  {
   "cell_type": "code",
   "execution_count": 4,
   "metadata": {},
   "outputs": [
    {
     "name": "stdout",
     "output_type": "stream",
     "text": [
      "(45466, 24)\n"
     ]
    },
    {
     "data": {
      "text/html": [
       "<div>\n",
       "<style scoped>\n",
       "    .dataframe tbody tr th:only-of-type {\n",
       "        vertical-align: middle;\n",
       "    }\n",
       "\n",
       "    .dataframe tbody tr th {\n",
       "        vertical-align: top;\n",
       "    }\n",
       "\n",
       "    .dataframe thead th {\n",
       "        text-align: right;\n",
       "    }\n",
       "</style>\n",
       "<table border=\"1\" class=\"dataframe\">\n",
       "  <thead>\n",
       "    <tr style=\"text-align: right;\">\n",
       "      <th></th>\n",
       "      <th>adult</th>\n",
       "      <th>belongs_to_collection</th>\n",
       "      <th>budget</th>\n",
       "      <th>genres</th>\n",
       "      <th>homepage</th>\n",
       "      <th>id</th>\n",
       "      <th>imdb_id</th>\n",
       "      <th>original_language</th>\n",
       "      <th>original_title</th>\n",
       "      <th>overview</th>\n",
       "      <th>...</th>\n",
       "      <th>release_date</th>\n",
       "      <th>revenue</th>\n",
       "      <th>runtime</th>\n",
       "      <th>spoken_languages</th>\n",
       "      <th>status</th>\n",
       "      <th>tagline</th>\n",
       "      <th>title</th>\n",
       "      <th>video</th>\n",
       "      <th>vote_average</th>\n",
       "      <th>vote_count</th>\n",
       "    </tr>\n",
       "  </thead>\n",
       "  <tbody>\n",
       "    <tr>\n",
       "      <th>0</th>\n",
       "      <td>False</td>\n",
       "      <td>{'id': 10194, 'name': 'Toy Story Collection', ...</td>\n",
       "      <td>30000000</td>\n",
       "      <td>[{'id': 16, 'name': 'Animation'}, {'id': 35, '...</td>\n",
       "      <td>http://toystory.disney.com/toy-story</td>\n",
       "      <td>862</td>\n",
       "      <td>tt0114709</td>\n",
       "      <td>en</td>\n",
       "      <td>Toy Story</td>\n",
       "      <td>Led by Woody, Andy's toys live happily in his ...</td>\n",
       "      <td>...</td>\n",
       "      <td>1995-10-30</td>\n",
       "      <td>373554033.0</td>\n",
       "      <td>81.0</td>\n",
       "      <td>[{'iso_639_1': 'en', 'name': 'English'}]</td>\n",
       "      <td>Released</td>\n",
       "      <td>NaN</td>\n",
       "      <td>Toy Story</td>\n",
       "      <td>False</td>\n",
       "      <td>7.7</td>\n",
       "      <td>5415.0</td>\n",
       "    </tr>\n",
       "  </tbody>\n",
       "</table>\n",
       "<p>1 rows × 24 columns</p>\n",
       "</div>"
      ],
      "text/plain": [
       "   adult                              belongs_to_collection    budget  \\\n",
       "0  False  {'id': 10194, 'name': 'Toy Story Collection', ...  30000000   \n",
       "\n",
       "                                              genres  \\\n",
       "0  [{'id': 16, 'name': 'Animation'}, {'id': 35, '...   \n",
       "\n",
       "                               homepage   id    imdb_id original_language  \\\n",
       "0  http://toystory.disney.com/toy-story  862  tt0114709                en   \n",
       "\n",
       "  original_title                                           overview  ...  \\\n",
       "0      Toy Story  Led by Woody, Andy's toys live happily in his ...  ...   \n",
       "\n",
       "  release_date      revenue runtime                          spoken_languages  \\\n",
       "0   1995-10-30  373554033.0    81.0  [{'iso_639_1': 'en', 'name': 'English'}]   \n",
       "\n",
       "     status  tagline      title  video vote_average vote_count  \n",
       "0  Released      NaN  Toy Story  False          7.7     5415.0  \n",
       "\n",
       "[1 rows x 24 columns]"
      ]
     },
     "execution_count": 4,
     "metadata": {},
     "output_type": "execute_result"
    }
   ],
   "source": [
    "print(df_movies.shape)\n",
    "df_movies.head(1)"
   ]
  },
  {
   "cell_type": "code",
   "execution_count": 5,
   "metadata": {},
   "outputs": [
    {
     "name": "stdout",
     "output_type": "stream",
     "text": [
      "(45476, 3)\n"
     ]
    },
    {
     "data": {
      "text/html": [
       "<div>\n",
       "<style scoped>\n",
       "    .dataframe tbody tr th:only-of-type {\n",
       "        vertical-align: middle;\n",
       "    }\n",
       "\n",
       "    .dataframe tbody tr th {\n",
       "        vertical-align: top;\n",
       "    }\n",
       "\n",
       "    .dataframe thead th {\n",
       "        text-align: right;\n",
       "    }\n",
       "</style>\n",
       "<table border=\"1\" class=\"dataframe\">\n",
       "  <thead>\n",
       "    <tr style=\"text-align: right;\">\n",
       "      <th></th>\n",
       "      <th>cast</th>\n",
       "      <th>crew</th>\n",
       "      <th>id</th>\n",
       "    </tr>\n",
       "  </thead>\n",
       "  <tbody>\n",
       "    <tr>\n",
       "      <th>0</th>\n",
       "      <td>[{'cast_id': 14, 'character': 'Woody (voice)',...</td>\n",
       "      <td>[{'credit_id': '52fe4284c3a36847f8024f49', 'de...</td>\n",
       "      <td>862</td>\n",
       "    </tr>\n",
       "  </tbody>\n",
       "</table>\n",
       "</div>"
      ],
      "text/plain": [
       "                                                cast  \\\n",
       "0  [{'cast_id': 14, 'character': 'Woody (voice)',...   \n",
       "\n",
       "                                                crew   id  \n",
       "0  [{'credit_id': '52fe4284c3a36847f8024f49', 'de...  862  "
      ]
     },
     "execution_count": 5,
     "metadata": {},
     "output_type": "execute_result"
    }
   ],
   "source": [
    "print(df_credits.shape)\n",
    "df_credits.head(1)"
   ]
  },
  {
   "cell_type": "code",
   "execution_count": 6,
   "metadata": {},
   "outputs": [
    {
     "data": {
      "text/plain": [
       "0           862\n",
       "1          8844\n",
       "2         15602\n",
       "3         31357\n",
       "4         11862\n",
       "          ...  \n",
       "45461    439050\n",
       "45462    111109\n",
       "45463     67758\n",
       "45464    227506\n",
       "45465    461257\n",
       "Name: id, Length: 45463, dtype: int64"
      ]
     },
     "execution_count": 6,
     "metadata": {},
     "output_type": "execute_result"
    }
   ],
   "source": [
    "df_movies['id'] = pd.to_numeric(df_movies['id'], errors='coerce')\n",
    "df_movies.dropna(subset=['id'], inplace=True)\n",
    "df_movies['id'].astype('int64')"
   ]
  },
  {
   "cell_type": "code",
   "execution_count": 7,
   "metadata": {},
   "outputs": [
    {
     "name": "stdout",
     "output_type": "stream",
     "text": [
      "(45539, 26)\n"
     ]
    },
    {
     "data": {
      "text/html": [
       "<div>\n",
       "<style scoped>\n",
       "    .dataframe tbody tr th:only-of-type {\n",
       "        vertical-align: middle;\n",
       "    }\n",
       "\n",
       "    .dataframe tbody tr th {\n",
       "        vertical-align: top;\n",
       "    }\n",
       "\n",
       "    .dataframe thead th {\n",
       "        text-align: right;\n",
       "    }\n",
       "</style>\n",
       "<table border=\"1\" class=\"dataframe\">\n",
       "  <thead>\n",
       "    <tr style=\"text-align: right;\">\n",
       "      <th></th>\n",
       "      <th>adult</th>\n",
       "      <th>belongs_to_collection</th>\n",
       "      <th>budget</th>\n",
       "      <th>genres</th>\n",
       "      <th>homepage</th>\n",
       "      <th>id</th>\n",
       "      <th>imdb_id</th>\n",
       "      <th>original_language</th>\n",
       "      <th>original_title</th>\n",
       "      <th>overview</th>\n",
       "      <th>...</th>\n",
       "      <th>runtime</th>\n",
       "      <th>spoken_languages</th>\n",
       "      <th>status</th>\n",
       "      <th>tagline</th>\n",
       "      <th>title</th>\n",
       "      <th>video</th>\n",
       "      <th>vote_average</th>\n",
       "      <th>vote_count</th>\n",
       "      <th>cast</th>\n",
       "      <th>crew</th>\n",
       "    </tr>\n",
       "  </thead>\n",
       "  <tbody>\n",
       "    <tr>\n",
       "      <th>0</th>\n",
       "      <td>False</td>\n",
       "      <td>NaN</td>\n",
       "      <td>0</td>\n",
       "      <td>[{'id': 18, 'name': 'Drama'}, {'id': 80, 'name...</td>\n",
       "      <td>NaN</td>\n",
       "      <td>2.0</td>\n",
       "      <td>tt0094675</td>\n",
       "      <td>fi</td>\n",
       "      <td>Ariel</td>\n",
       "      <td>Taisto Kasurinen is a Finnish coal miner whose...</td>\n",
       "      <td>...</td>\n",
       "      <td>69.0</td>\n",
       "      <td>[{'iso_639_1': 'fi', 'name': 'suomi'}, {'iso_6...</td>\n",
       "      <td>Released</td>\n",
       "      <td>NaN</td>\n",
       "      <td>Ariel</td>\n",
       "      <td>False</td>\n",
       "      <td>7.1</td>\n",
       "      <td>44.0</td>\n",
       "      <td>[{'cast_id': 3, 'character': 'Taisto Olavi Kas...</td>\n",
       "      <td>[{'credit_id': '52fe420dc3a36847f800001f', 'de...</td>\n",
       "    </tr>\n",
       "  </tbody>\n",
       "</table>\n",
       "<p>1 rows × 26 columns</p>\n",
       "</div>"
      ],
      "text/plain": [
       "   adult belongs_to_collection budget  \\\n",
       "0  False                   NaN      0   \n",
       "\n",
       "                                              genres homepage   id    imdb_id  \\\n",
       "0  [{'id': 18, 'name': 'Drama'}, {'id': 80, 'name...      NaN  2.0  tt0094675   \n",
       "\n",
       "  original_language original_title  \\\n",
       "0                fi          Ariel   \n",
       "\n",
       "                                            overview  ... runtime  \\\n",
       "0  Taisto Kasurinen is a Finnish coal miner whose...  ...    69.0   \n",
       "\n",
       "                                    spoken_languages    status tagline  title  \\\n",
       "0  [{'iso_639_1': 'fi', 'name': 'suomi'}, {'iso_6...  Released     NaN  Ariel   \n",
       "\n",
       "   video  vote_average vote_count  \\\n",
       "0  False           7.1       44.0   \n",
       "\n",
       "                                                cast  \\\n",
       "0  [{'cast_id': 3, 'character': 'Taisto Olavi Kas...   \n",
       "\n",
       "                                                crew  \n",
       "0  [{'credit_id': '52fe420dc3a36847f800001f', 'de...  \n",
       "\n",
       "[1 rows x 26 columns]"
      ]
     },
     "execution_count": 7,
     "metadata": {},
     "output_type": "execute_result"
    }
   ],
   "source": [
    "df_joined = df_movies.merge(df_credits, on='id', how='outer')\n",
    "print(df_joined.shape)\n",
    "df_joined.head(1)"
   ]
  },
  {
   "cell_type": "code",
   "execution_count": 8,
   "metadata": {},
   "outputs": [
    {
     "name": "stdout",
     "output_type": "stream",
     "text": [
      "(45539, 26)\n"
     ]
    },
    {
     "data": {
      "text/plain": [
       "Index(['adult', 'belongs_to_collection', 'budget', 'genres', 'homepage', 'id',\n",
       "       'imdb_id', 'original_language', 'original_title', 'overview',\n",
       "       'popularity', 'poster_path', 'production_companies',\n",
       "       'production_countries', 'release_date', 'revenue', 'runtime',\n",
       "       'spoken_languages', 'status', 'tagline', 'title', 'video',\n",
       "       'vote_average', 'vote_count', 'cast', 'crew'],\n",
       "      dtype='object')"
      ]
     },
     "execution_count": 8,
     "metadata": {},
     "output_type": "execute_result"
    }
   ],
   "source": [
    "print(df_joined.shape)\n",
    "df_joined.columns"
   ]
  },
  {
   "cell_type": "code",
   "execution_count": 9,
   "metadata": {},
   "outputs": [
    {
     "name": "stdout",
     "output_type": "stream",
     "text": [
      "(4440, 7)\n"
     ]
    },
    {
     "name": "stderr",
     "output_type": "stream",
     "text": [
      "C:\\Users\\house\\AppData\\Local\\Temp\\ipykernel_26148\\1100454394.py:2: SettingWithCopyWarning: \n",
      "A value is trying to be set on a copy of a slice from a DataFrame\n",
      "\n",
      "See the caveats in the documentation: https://pandas.pydata.org/pandas-docs/stable/user_guide/indexing.html#returning-a-view-versus-a-copy\n",
      "  df_eda.dropna(inplace=True)\n"
     ]
    },
    {
     "data": {
      "text/html": [
       "<div>\n",
       "<style scoped>\n",
       "    .dataframe tbody tr th:only-of-type {\n",
       "        vertical-align: middle;\n",
       "    }\n",
       "\n",
       "    .dataframe tbody tr th {\n",
       "        vertical-align: top;\n",
       "    }\n",
       "\n",
       "    .dataframe thead th {\n",
       "        text-align: right;\n",
       "    }\n",
       "</style>\n",
       "<table border=\"1\" class=\"dataframe\">\n",
       "  <thead>\n",
       "    <tr style=\"text-align: right;\">\n",
       "      <th></th>\n",
       "      <th>id</th>\n",
       "      <th>belongs_to_collection</th>\n",
       "      <th>genres</th>\n",
       "      <th>overview</th>\n",
       "      <th>title</th>\n",
       "      <th>cast</th>\n",
       "      <th>crew</th>\n",
       "    </tr>\n",
       "  </thead>\n",
       "  <tbody>\n",
       "    <tr>\n",
       "      <th>4</th>\n",
       "      <td>11.0</td>\n",
       "      <td>{'id': 10, 'name': 'Star Wars Collection', 'po...</td>\n",
       "      <td>[{'id': 12, 'name': 'Adventure'}, {'id': 28, '...</td>\n",
       "      <td>Princess Leia is captured and held hostage by ...</td>\n",
       "      <td>Star Wars</td>\n",
       "      <td>[{'cast_id': 3, 'character': 'Luke Skywalker',...</td>\n",
       "      <td>[{'credit_id': '52fe420dc3a36847f8000437', 'de...</td>\n",
       "    </tr>\n",
       "  </tbody>\n",
       "</table>\n",
       "</div>"
      ],
      "text/plain": [
       "     id                              belongs_to_collection  \\\n",
       "4  11.0  {'id': 10, 'name': 'Star Wars Collection', 'po...   \n",
       "\n",
       "                                              genres  \\\n",
       "4  [{'id': 12, 'name': 'Adventure'}, {'id': 28, '...   \n",
       "\n",
       "                                            overview      title  \\\n",
       "4  Princess Leia is captured and held hostage by ...  Star Wars   \n",
       "\n",
       "                                                cast  \\\n",
       "4  [{'cast_id': 3, 'character': 'Luke Skywalker',...   \n",
       "\n",
       "                                                crew  \n",
       "4  [{'credit_id': '52fe420dc3a36847f8000437', 'de...  "
      ]
     },
     "execution_count": 9,
     "metadata": {},
     "output_type": "execute_result"
    }
   ],
   "source": [
    "df_eda = df_joined[['id', 'belongs_to_collection', 'genres', 'overview', 'title', 'cast', 'crew']]\n",
    "df_eda.dropna(inplace=True)\n",
    "print(df_eda.shape)\n",
    "df_eda.head(1)"
   ]
  },
  {
   "cell_type": "code",
   "execution_count": 10,
   "metadata": {},
   "outputs": [],
   "source": [
    "def extraer(texto):\n",
    "    lista = []    \n",
    "    datos = ast.literal_eval(texto)    \n",
    "    if isinstance(datos, list):        \n",
    "        for item in datos:\n",
    "            if isinstance(item, dict) and 'name' in item:\n",
    "                lista.append(item['name'])    \n",
    "    elif isinstance(datos, dict) and 'name' in datos:\n",
    "        lista.append(datos['name'])    \n",
    "    return lista\n",
    "\n",
    "\n",
    "def directores(texto):\n",
    "    lista = []    \n",
    "    for i in ast.literal_eval(texto):\n",
    "        if i['job'] == 'Director':\n",
    "            lista.append(i['name'])\n",
    "    return lista\n",
    "\n",
    "def del_espacios(texto):\n",
    "    lista = []\n",
    "    for i in texto:\n",
    "        lista.append(i.replace(\" \", \"\"))\n",
    "    return lista\n"
   ]
  },
  {
   "cell_type": "code",
   "execution_count": 11,
   "metadata": {},
   "outputs": [
    {
     "name": "stderr",
     "output_type": "stream",
     "text": [
      "C:\\Users\\house\\AppData\\Local\\Temp\\ipykernel_26148\\2248557828.py:1: SettingWithCopyWarning: \n",
      "A value is trying to be set on a copy of a slice from a DataFrame.\n",
      "Try using .loc[row_indexer,col_indexer] = value instead\n",
      "\n",
      "See the caveats in the documentation: https://pandas.pydata.org/pandas-docs/stable/user_guide/indexing.html#returning-a-view-versus-a-copy\n",
      "  df_eda['genres'] = df_eda['genres'].apply(extraer)\n",
      "C:\\Users\\house\\AppData\\Local\\Temp\\ipykernel_26148\\2248557828.py:2: SettingWithCopyWarning: \n",
      "A value is trying to be set on a copy of a slice from a DataFrame.\n",
      "Try using .loc[row_indexer,col_indexer] = value instead\n",
      "\n",
      "See the caveats in the documentation: https://pandas.pydata.org/pandas-docs/stable/user_guide/indexing.html#returning-a-view-versus-a-copy\n",
      "  df_eda['cast'] = df_eda['cast'].apply(extraer)\n",
      "C:\\Users\\house\\AppData\\Local\\Temp\\ipykernel_26148\\2248557828.py:3: SettingWithCopyWarning: \n",
      "A value is trying to be set on a copy of a slice from a DataFrame.\n",
      "Try using .loc[row_indexer,col_indexer] = value instead\n",
      "\n",
      "See the caveats in the documentation: https://pandas.pydata.org/pandas-docs/stable/user_guide/indexing.html#returning-a-view-versus-a-copy\n",
      "  df_eda['cast'] = df_eda['cast'].apply(lambda x: x[0:3])\n",
      "C:\\Users\\house\\AppData\\Local\\Temp\\ipykernel_26148\\2248557828.py:4: SettingWithCopyWarning: \n",
      "A value is trying to be set on a copy of a slice from a DataFrame.\n",
      "Try using .loc[row_indexer,col_indexer] = value instead\n",
      "\n",
      "See the caveats in the documentation: https://pandas.pydata.org/pandas-docs/stable/user_guide/indexing.html#returning-a-view-versus-a-copy\n",
      "  df_eda['belongs_to_collection'] = df_eda['belongs_to_collection'].apply(extraer)\n",
      "C:\\Users\\house\\AppData\\Local\\Temp\\ipykernel_26148\\2248557828.py:5: SettingWithCopyWarning: \n",
      "A value is trying to be set on a copy of a slice from a DataFrame.\n",
      "Try using .loc[row_indexer,col_indexer] = value instead\n",
      "\n",
      "See the caveats in the documentation: https://pandas.pydata.org/pandas-docs/stable/user_guide/indexing.html#returning-a-view-versus-a-copy\n",
      "  df_eda['crew'] = df_eda['crew'].apply(directores)\n",
      "C:\\Users\\house\\AppData\\Local\\Temp\\ipykernel_26148\\2248557828.py:6: SettingWithCopyWarning: \n",
      "A value is trying to be set on a copy of a slice from a DataFrame.\n",
      "Try using .loc[row_indexer,col_indexer] = value instead\n",
      "\n",
      "See the caveats in the documentation: https://pandas.pydata.org/pandas-docs/stable/user_guide/indexing.html#returning-a-view-versus-a-copy\n",
      "  df_eda['overview'] = df_eda['overview'].apply(lambda x: x.split())\n",
      "C:\\Users\\house\\AppData\\Local\\Temp\\ipykernel_26148\\2248557828.py:8: SettingWithCopyWarning: \n",
      "A value is trying to be set on a copy of a slice from a DataFrame.\n",
      "Try using .loc[row_indexer,col_indexer] = value instead\n",
      "\n",
      "See the caveats in the documentation: https://pandas.pydata.org/pandas-docs/stable/user_guide/indexing.html#returning-a-view-versus-a-copy\n",
      "  df_eda['belongs_to_collection'] = df_eda['belongs_to_collection'].apply(del_espacios)\n",
      "C:\\Users\\house\\AppData\\Local\\Temp\\ipykernel_26148\\2248557828.py:9: SettingWithCopyWarning: \n",
      "A value is trying to be set on a copy of a slice from a DataFrame.\n",
      "Try using .loc[row_indexer,col_indexer] = value instead\n",
      "\n",
      "See the caveats in the documentation: https://pandas.pydata.org/pandas-docs/stable/user_guide/indexing.html#returning-a-view-versus-a-copy\n",
      "  df_eda['genres'] = df_eda['genres'].apply(del_espacios)\n",
      "C:\\Users\\house\\AppData\\Local\\Temp\\ipykernel_26148\\2248557828.py:10: SettingWithCopyWarning: \n",
      "A value is trying to be set on a copy of a slice from a DataFrame.\n",
      "Try using .loc[row_indexer,col_indexer] = value instead\n",
      "\n",
      "See the caveats in the documentation: https://pandas.pydata.org/pandas-docs/stable/user_guide/indexing.html#returning-a-view-versus-a-copy\n",
      "  df_eda['cast'] = df_eda['cast'].apply(del_espacios)\n",
      "C:\\Users\\house\\AppData\\Local\\Temp\\ipykernel_26148\\2248557828.py:11: SettingWithCopyWarning: \n",
      "A value is trying to be set on a copy of a slice from a DataFrame.\n",
      "Try using .loc[row_indexer,col_indexer] = value instead\n",
      "\n",
      "See the caveats in the documentation: https://pandas.pydata.org/pandas-docs/stable/user_guide/indexing.html#returning-a-view-versus-a-copy\n",
      "  df_eda['crew'] = df_eda['crew'].apply(del_espacios)\n",
      "C:\\Users\\house\\AppData\\Local\\Temp\\ipykernel_26148\\2248557828.py:13: SettingWithCopyWarning: \n",
      "A value is trying to be set on a copy of a slice from a DataFrame.\n",
      "Try using .loc[row_indexer,col_indexer] = value instead\n",
      "\n",
      "See the caveats in the documentation: https://pandas.pydata.org/pandas-docs/stable/user_guide/indexing.html#returning-a-view-versus-a-copy\n",
      "  df_eda['overview'] = df_eda['overview'].apply(lambda x: list(filter(lambda y: y and y.strip(), x)))\n"
     ]
    }
   ],
   "source": [
    "df_eda['genres'] = df_eda['genres'].apply(extraer)\n",
    "df_eda['cast'] = df_eda['cast'].apply(extraer)\n",
    "df_eda['cast'] = df_eda['cast'].apply(lambda x: x[0:3])\n",
    "df_eda['belongs_to_collection'] = df_eda['belongs_to_collection'].apply(extraer)\n",
    "df_eda['crew'] = df_eda['crew'].apply(directores)\n",
    "df_eda['overview'] = df_eda['overview'].apply(lambda x: x.split())\n",
    "\n",
    "df_eda['belongs_to_collection'] = df_eda['belongs_to_collection'].apply(del_espacios)\n",
    "df_eda['genres'] = df_eda['genres'].apply(del_espacios)\n",
    "df_eda['cast'] = df_eda['cast'].apply(del_espacios)\n",
    "df_eda['crew'] = df_eda['crew'].apply(del_espacios)\n",
    "\n",
    "df_eda['overview'] = df_eda['overview'].apply(lambda x: list(filter(lambda y: y and y.strip(), x)))"
   ]
  },
  {
   "cell_type": "code",
   "execution_count": 12,
   "metadata": {},
   "outputs": [
    {
     "name": "stderr",
     "output_type": "stream",
     "text": [
      "C:\\Users\\house\\AppData\\Local\\Temp\\ipykernel_26148\\727673074.py:1: SettingWithCopyWarning: \n",
      "A value is trying to be set on a copy of a slice from a DataFrame.\n",
      "Try using .loc[row_indexer,col_indexer] = value instead\n",
      "\n",
      "See the caveats in the documentation: https://pandas.pydata.org/pandas-docs/stable/user_guide/indexing.html#returning-a-view-versus-a-copy\n",
      "  df_eda['tags'] = df_eda['belongs_to_collection'] + df_eda['genres'] + df_eda['overview'] + df_eda['cast'] + df_eda['crew']\n"
     ]
    },
    {
     "data": {
      "text/html": [
       "<div>\n",
       "<style scoped>\n",
       "    .dataframe tbody tr th:only-of-type {\n",
       "        vertical-align: middle;\n",
       "    }\n",
       "\n",
       "    .dataframe tbody tr th {\n",
       "        vertical-align: top;\n",
       "    }\n",
       "\n",
       "    .dataframe thead th {\n",
       "        text-align: right;\n",
       "    }\n",
       "</style>\n",
       "<table border=\"1\" class=\"dataframe\">\n",
       "  <thead>\n",
       "    <tr style=\"text-align: right;\">\n",
       "      <th></th>\n",
       "      <th>id</th>\n",
       "      <th>belongs_to_collection</th>\n",
       "      <th>genres</th>\n",
       "      <th>overview</th>\n",
       "      <th>title</th>\n",
       "      <th>cast</th>\n",
       "      <th>crew</th>\n",
       "      <th>tags</th>\n",
       "    </tr>\n",
       "  </thead>\n",
       "  <tbody>\n",
       "    <tr>\n",
       "      <th>4</th>\n",
       "      <td>11.0</td>\n",
       "      <td>[StarWarsCollection]</td>\n",
       "      <td>[Adventure, Action, ScienceFiction]</td>\n",
       "      <td>[Princess, Leia, is, captured, and, held, host...</td>\n",
       "      <td>Star Wars</td>\n",
       "      <td>[MarkHamill, HarrisonFord, CarrieFisher]</td>\n",
       "      <td>[GeorgeLucas]</td>\n",
       "      <td>[StarWarsCollection, Adventure, Action, Scienc...</td>\n",
       "    </tr>\n",
       "    <tr>\n",
       "      <th>5</th>\n",
       "      <td>12.0</td>\n",
       "      <td>[FindingNemoCollection]</td>\n",
       "      <td>[Animation, Family]</td>\n",
       "      <td>[Nemo,, an, adventurous, young, clownfish,, is...</td>\n",
       "      <td>Finding Nemo</td>\n",
       "      <td>[AlbertBrooks, EllenDeGeneres, AlexanderGould]</td>\n",
       "      <td>[AndrewStanton]</td>\n",
       "      <td>[FindingNemoCollection, Animation, Family, Nem...</td>\n",
       "    </tr>\n",
       "    <tr>\n",
       "      <th>9</th>\n",
       "      <td>16.0</td>\n",
       "      <td>[HeartofGoldCollection]</td>\n",
       "      <td>[Drama, Crime, Music]</td>\n",
       "      <td>[Selma,, a, Czech, immigrant, on, the, verge, ...</td>\n",
       "      <td>Dancer in the Dark</td>\n",
       "      <td>[Björk, CatherineDeneuve, DavidMorse]</td>\n",
       "      <td>[LarsvonTrier]</td>\n",
       "      <td>[HeartofGoldCollection, Drama, Crime, Music, S...</td>\n",
       "    </tr>\n",
       "    <tr>\n",
       "      <th>14</th>\n",
       "      <td>21.0</td>\n",
       "      <td>[TheEndlessSummerCollection]</td>\n",
       "      <td>[Documentary]</td>\n",
       "      <td>[The, Endless, Summer,, by, Bruce, Brown,, is,...</td>\n",
       "      <td>The Endless Summer</td>\n",
       "      <td>[MichaelHynson, RobertAugust, Lord'TallyHo'Ble...</td>\n",
       "      <td>[BruceBrown]</td>\n",
       "      <td>[TheEndlessSummerCollection, Documentary, The,...</td>\n",
       "    </tr>\n",
       "    <tr>\n",
       "      <th>15</th>\n",
       "      <td>22.0</td>\n",
       "      <td>[PiratesoftheCaribbeanCollection]</td>\n",
       "      <td>[Adventure, Fantasy, Action]</td>\n",
       "      <td>[Jack, Sparrow,, a, freewheeling, 17th-century...</td>\n",
       "      <td>Pirates of the Caribbean: The Curse of the Bla...</td>\n",
       "      <td>[JohnnyDepp, GeoffreyRush, OrlandoBloom]</td>\n",
       "      <td>[GoreVerbinski]</td>\n",
       "      <td>[PiratesoftheCaribbeanCollection, Adventure, F...</td>\n",
       "    </tr>\n",
       "  </tbody>\n",
       "</table>\n",
       "</div>"
      ],
      "text/plain": [
       "      id              belongs_to_collection  \\\n",
       "4   11.0               [StarWarsCollection]   \n",
       "5   12.0            [FindingNemoCollection]   \n",
       "9   16.0            [HeartofGoldCollection]   \n",
       "14  21.0       [TheEndlessSummerCollection]   \n",
       "15  22.0  [PiratesoftheCaribbeanCollection]   \n",
       "\n",
       "                                 genres  \\\n",
       "4   [Adventure, Action, ScienceFiction]   \n",
       "5                   [Animation, Family]   \n",
       "9                 [Drama, Crime, Music]   \n",
       "14                        [Documentary]   \n",
       "15         [Adventure, Fantasy, Action]   \n",
       "\n",
       "                                             overview  \\\n",
       "4   [Princess, Leia, is, captured, and, held, host...   \n",
       "5   [Nemo,, an, adventurous, young, clownfish,, is...   \n",
       "9   [Selma,, a, Czech, immigrant, on, the, verge, ...   \n",
       "14  [The, Endless, Summer,, by, Bruce, Brown,, is,...   \n",
       "15  [Jack, Sparrow,, a, freewheeling, 17th-century...   \n",
       "\n",
       "                                                title  \\\n",
       "4                                           Star Wars   \n",
       "5                                        Finding Nemo   \n",
       "9                                  Dancer in the Dark   \n",
       "14                                 The Endless Summer   \n",
       "15  Pirates of the Caribbean: The Curse of the Bla...   \n",
       "\n",
       "                                                 cast             crew  \\\n",
       "4            [MarkHamill, HarrisonFord, CarrieFisher]    [GeorgeLucas]   \n",
       "5      [AlbertBrooks, EllenDeGeneres, AlexanderGould]  [AndrewStanton]   \n",
       "9               [Björk, CatherineDeneuve, DavidMorse]   [LarsvonTrier]   \n",
       "14  [MichaelHynson, RobertAugust, Lord'TallyHo'Ble...     [BruceBrown]   \n",
       "15           [JohnnyDepp, GeoffreyRush, OrlandoBloom]  [GoreVerbinski]   \n",
       "\n",
       "                                                 tags  \n",
       "4   [StarWarsCollection, Adventure, Action, Scienc...  \n",
       "5   [FindingNemoCollection, Animation, Family, Nem...  \n",
       "9   [HeartofGoldCollection, Drama, Crime, Music, S...  \n",
       "14  [TheEndlessSummerCollection, Documentary, The,...  \n",
       "15  [PiratesoftheCaribbeanCollection, Adventure, F...  "
      ]
     },
     "execution_count": 12,
     "metadata": {},
     "output_type": "execute_result"
    }
   ],
   "source": [
    "df_eda['tags'] = df_eda['belongs_to_collection'] + df_eda['genres'] + df_eda['overview'] + df_eda['cast'] + df_eda['crew']\n",
    "\n",
    "df_eda.head()"
   ]
  },
  {
   "cell_type": "code",
   "execution_count": null,
   "metadata": {},
   "outputs": [],
   "source": [
    "df_for_analisys = df_eda.drop(columns=['overview', 'belongs_to_collection', 'genres', 'cast', 'crew'])\n",
    "df_for_analisys.reset_index(drop=True, inplace=True)\n"
   ]
  },
  {
   "cell_type": "code",
   "execution_count": 14,
   "metadata": {},
   "outputs": [
    {
     "data": {
      "text/html": [
       "<div>\n",
       "<style scoped>\n",
       "    .dataframe tbody tr th:only-of-type {\n",
       "        vertical-align: middle;\n",
       "    }\n",
       "\n",
       "    .dataframe tbody tr th {\n",
       "        vertical-align: top;\n",
       "    }\n",
       "\n",
       "    .dataframe thead th {\n",
       "        text-align: right;\n",
       "    }\n",
       "</style>\n",
       "<table border=\"1\" class=\"dataframe\">\n",
       "  <thead>\n",
       "    <tr style=\"text-align: right;\">\n",
       "      <th></th>\n",
       "      <th>id</th>\n",
       "      <th>title</th>\n",
       "      <th>tags</th>\n",
       "    </tr>\n",
       "  </thead>\n",
       "  <tbody>\n",
       "    <tr>\n",
       "      <th>4</th>\n",
       "      <td>11.0</td>\n",
       "      <td>Star Wars</td>\n",
       "      <td>StarWarsCollection Adventure Action ScienceFic...</td>\n",
       "    </tr>\n",
       "    <tr>\n",
       "      <th>5</th>\n",
       "      <td>12.0</td>\n",
       "      <td>Finding Nemo</td>\n",
       "      <td>FindingNemoCollection Animation Family Nemo, a...</td>\n",
       "    </tr>\n",
       "    <tr>\n",
       "      <th>9</th>\n",
       "      <td>16.0</td>\n",
       "      <td>Dancer in the Dark</td>\n",
       "      <td>HeartofGoldCollection Drama Crime Music Selma,...</td>\n",
       "    </tr>\n",
       "    <tr>\n",
       "      <th>14</th>\n",
       "      <td>21.0</td>\n",
       "      <td>The Endless Summer</td>\n",
       "      <td>TheEndlessSummerCollection Documentary The End...</td>\n",
       "    </tr>\n",
       "    <tr>\n",
       "      <th>15</th>\n",
       "      <td>22.0</td>\n",
       "      <td>Pirates of the Caribbean: The Curse of the Bla...</td>\n",
       "      <td>PiratesoftheCaribbeanCollection Adventure Fant...</td>\n",
       "    </tr>\n",
       "  </tbody>\n",
       "</table>\n",
       "</div>"
      ],
      "text/plain": [
       "      id                                              title  \\\n",
       "4   11.0                                          Star Wars   \n",
       "5   12.0                                       Finding Nemo   \n",
       "9   16.0                                 Dancer in the Dark   \n",
       "14  21.0                                 The Endless Summer   \n",
       "15  22.0  Pirates of the Caribbean: The Curse of the Bla...   \n",
       "\n",
       "                                                 tags  \n",
       "4   StarWarsCollection Adventure Action ScienceFic...  \n",
       "5   FindingNemoCollection Animation Family Nemo, a...  \n",
       "9   HeartofGoldCollection Drama Crime Music Selma,...  \n",
       "14  TheEndlessSummerCollection Documentary The End...  \n",
       "15  PiratesoftheCaribbeanCollection Adventure Fant...  "
      ]
     },
     "execution_count": 14,
     "metadata": {},
     "output_type": "execute_result"
    }
   ],
   "source": [
    "df_for_analisys['tags'] = df_for_analisys['tags'].apply(lambda x: ' '.join(x))\n",
    "df_for_analisys.head()"
   ]
  },
  {
   "cell_type": "code",
   "execution_count": 22,
   "metadata": {},
   "outputs": [
    {
     "name": "stdout",
     "output_type": "stream",
     "text": [
      "StarWarsCollection Adventure Action ScienceFiction Princess Leia is captured and held hostage by the evil Imperial forces in their effort to take over the galactic Empire Venturesome Luke Skywalker and dashing captain Han Solo team together with the loveable robot duo R2-D2 and C-3PO to rescue the beautiful princess and restore peace and justice in the Empire MarkHamill HarrisonFord CarrieFisher GeorgeLucas\n"
     ]
    }
   ],
   "source": [
    "print(df_for_analisys['tags'].iloc[0])"
   ]
  },
  {
   "cell_type": "code",
   "execution_count": 21,
   "metadata": {},
   "outputs": [],
   "source": [
    "df_for_analisys['tags'] = df_for_analisys['tags'].str.replace(r'[.,]', '', regex=True)"
   ]
  },
  {
   "cell_type": "code",
   "execution_count": 44,
   "metadata": {},
   "outputs": [],
   "source": [
    "df_for_analisys.to_csv('C:\\Python\\HENRY-Data-Science\\Proyecto_1\\Datasets\\dataset_recomendaciones.csv', index=False)"
   ]
  },
  {
   "cell_type": "markdown",
   "metadata": {},
   "source": [
    "Creamos el modelo"
   ]
  },
  {
   "cell_type": "code",
   "execution_count": null,
   "metadata": {},
   "outputs": [
    {
     "data": {
      "text/plain": [
       "(4440, 5000)"
      ]
     },
     "execution_count": 27,
     "metadata": {},
     "output_type": "execute_result"
    }
   ],
   "source": [
    "cv = CountVectorizer(max_features=5000, stop_words='english')\n",
    "vector = cv.fit_transform(df_for_analisys['tags']).toarray()\n",
    "vector.shape"
   ]
  },
  {
   "cell_type": "code",
   "execution_count": 28,
   "metadata": {},
   "outputs": [
    {
     "data": {
      "text/plain": [
       "array([[1.        , 0.        , 0.        , ..., 0.        , 0.02993422,\n",
       "        0.04134491],\n",
       "       [0.        , 1.        , 0.        , ..., 0.        , 0.07658396,\n",
       "        0.        ],\n",
       "       [0.        , 0.        , 1.        , ..., 0.04428074, 0.03279129,\n",
       "        0.04529108],\n",
       "       ...,\n",
       "       [0.        , 0.        , 0.04428074, ..., 1.        , 0.04356068,\n",
       "        0.06016568],\n",
       "       [0.02993422, 0.07658396, 0.03279129, ..., 0.04356068, 1.        ,\n",
       "        0.0222773 ],\n",
       "       [0.04134491, 0.        , 0.04529108, ..., 0.06016568, 0.0222773 ,\n",
       "        1.        ]])"
      ]
     },
     "execution_count": 28,
     "metadata": {},
     "output_type": "execute_result"
    }
   ],
   "source": [
    "similaridad = cosine_similarity(vector)\n",
    "similaridad"
   ]
  },
  {
   "cell_type": "code",
   "execution_count": 37,
   "metadata": {},
   "outputs": [
    {
     "data": {
      "text/plain": [
       "np.int64(0)"
      ]
     },
     "execution_count": 37,
     "metadata": {},
     "output_type": "execute_result"
    }
   ],
   "source": [
    "df_for_analisys[df_for_analisys['title'] == 'Star Wars'].index[0]"
   ]
  },
  {
   "cell_type": "code",
   "execution_count": 39,
   "metadata": {},
   "outputs": [],
   "source": [
    "def recomendacion(pelicula:str):\n",
    "    indice = df_for_analisys[df_for_analisys['title'] == pelicula].index[0]\n",
    "\n",
    "    distancia = sorted(list(enumerate(similaridad[indice])), reverse=True, key=lambda x: x[1])\n",
    "\n",
    "    for i in distancia[1:6]:\n",
    "        print(df_for_analisys.iloc[i[0]].title)"
   ]
  },
  {
   "cell_type": "code",
   "execution_count": 42,
   "metadata": {},
   "outputs": [
    {
     "name": "stdout",
     "output_type": "stream",
     "text": [
      "Batman Beyond: Return of the Joker\n",
      "The Dark Knight Rises\n",
      "Batman & Robin\n",
      "Batman Unlimited: Monster Mayhem\n",
      "LEGO DC Comics Super Heroes: Justice League - Gotham City Breakout\n"
     ]
    }
   ],
   "source": [
    "recomendacion('Batman')"
   ]
  },
  {
   "cell_type": "code",
   "execution_count": 41,
   "metadata": {},
   "outputs": [],
   "source": [
    "pickle.dump(df_for_analisys, open('peliculas.pkl', 'wb'))\n",
    "pickle.dump(similaridad, open('similaridad.pkl', 'wb'))"
   ]
  }
 ],
 "metadata": {
  "kernelspec": {
   "display_name": "proyectouno",
   "language": "python",
   "name": "python3"
  },
  "language_info": {
   "codemirror_mode": {
    "name": "ipython",
    "version": 3
   },
   "file_extension": ".py",
   "mimetype": "text/x-python",
   "name": "python",
   "nbconvert_exporter": "python",
   "pygments_lexer": "ipython3",
   "version": "3.11.0"
  }
 },
 "nbformat": 4,
 "nbformat_minor": 2
}
