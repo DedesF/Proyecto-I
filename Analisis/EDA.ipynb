{
 "cells": [
  {
   "cell_type": "code",
   "execution_count": 3,
   "metadata": {},
   "outputs": [],
   "source": [
    "#Importamos las librerías que serán usadas\n",
    "import pandas as pd\n",
    "import numpy as np\n",
    "from sklearn.feature_extraction.text import TfidfVectorizer\n",
    "from sklearn.metrics.pairwise import cosine_similarity\n",
    "import ast\n",
    "import pickle\n",
    "from wordcloud import WordCloud\n",
    "import matplotlib.pyplot as plt"
   ]
  },
  {
   "cell_type": "code",
   "execution_count": 4,
   "metadata": {},
   "outputs": [
    {
     "name": "stderr",
     "output_type": "stream",
     "text": [
      "C:\\Users\\house\\AppData\\Local\\Temp\\ipykernel_41632\\1950063624.py:2: DtypeWarning: Columns (10) have mixed types. Specify dtype option on import or set low_memory=False.\n",
      "  df_movies = pd.read_csv('C:\\Python\\HENRY-Data-Science\\Proyecto_1\\Datasets\\movies_dataset.csv', encoding='utf-8')\n"
     ]
    }
   ],
   "source": [
    "#Cargamos con pandas los datasets que serán usando para hacer nuestro EDA\n",
    "df_movies = pd.read_csv('C:\\Python\\HENRY-Data-Science\\Proyecto_1\\Datasets\\movies_dataset.csv', encoding='utf-8')\n",
    "df_credits = pd.read_csv('C:\\Python\\HENRY-Data-Science\\Proyecto_1\\Datasets\\credits.csv', encoding='utf-8')"
   ]
  },
  {
   "cell_type": "code",
   "execution_count": 5,
   "metadata": {},
   "outputs": [
    {
     "name": "stdout",
     "output_type": "stream",
     "text": [
      "(45466, 24)\n"
     ]
    },
    {
     "data": {
      "text/html": [
       "<div>\n",
       "<style scoped>\n",
       "    .dataframe tbody tr th:only-of-type {\n",
       "        vertical-align: middle;\n",
       "    }\n",
       "\n",
       "    .dataframe tbody tr th {\n",
       "        vertical-align: top;\n",
       "    }\n",
       "\n",
       "    .dataframe thead th {\n",
       "        text-align: right;\n",
       "    }\n",
       "</style>\n",
       "<table border=\"1\" class=\"dataframe\">\n",
       "  <thead>\n",
       "    <tr style=\"text-align: right;\">\n",
       "      <th></th>\n",
       "      <th>adult</th>\n",
       "      <th>belongs_to_collection</th>\n",
       "      <th>budget</th>\n",
       "      <th>genres</th>\n",
       "      <th>homepage</th>\n",
       "      <th>id</th>\n",
       "      <th>imdb_id</th>\n",
       "      <th>original_language</th>\n",
       "      <th>original_title</th>\n",
       "      <th>overview</th>\n",
       "      <th>...</th>\n",
       "      <th>release_date</th>\n",
       "      <th>revenue</th>\n",
       "      <th>runtime</th>\n",
       "      <th>spoken_languages</th>\n",
       "      <th>status</th>\n",
       "      <th>tagline</th>\n",
       "      <th>title</th>\n",
       "      <th>video</th>\n",
       "      <th>vote_average</th>\n",
       "      <th>vote_count</th>\n",
       "    </tr>\n",
       "  </thead>\n",
       "  <tbody>\n",
       "    <tr>\n",
       "      <th>0</th>\n",
       "      <td>False</td>\n",
       "      <td>{'id': 10194, 'name': 'Toy Story Collection', ...</td>\n",
       "      <td>30000000</td>\n",
       "      <td>[{'id': 16, 'name': 'Animation'}, {'id': 35, '...</td>\n",
       "      <td>http://toystory.disney.com/toy-story</td>\n",
       "      <td>862</td>\n",
       "      <td>tt0114709</td>\n",
       "      <td>en</td>\n",
       "      <td>Toy Story</td>\n",
       "      <td>Led by Woody, Andy's toys live happily in his ...</td>\n",
       "      <td>...</td>\n",
       "      <td>1995-10-30</td>\n",
       "      <td>373554033.0</td>\n",
       "      <td>81.0</td>\n",
       "      <td>[{'iso_639_1': 'en', 'name': 'English'}]</td>\n",
       "      <td>Released</td>\n",
       "      <td>NaN</td>\n",
       "      <td>Toy Story</td>\n",
       "      <td>False</td>\n",
       "      <td>7.7</td>\n",
       "      <td>5415.0</td>\n",
       "    </tr>\n",
       "  </tbody>\n",
       "</table>\n",
       "<p>1 rows × 24 columns</p>\n",
       "</div>"
      ],
      "text/plain": [
       "   adult                              belongs_to_collection    budget  \\\n",
       "0  False  {'id': 10194, 'name': 'Toy Story Collection', ...  30000000   \n",
       "\n",
       "                                              genres  \\\n",
       "0  [{'id': 16, 'name': 'Animation'}, {'id': 35, '...   \n",
       "\n",
       "                               homepage   id    imdb_id original_language  \\\n",
       "0  http://toystory.disney.com/toy-story  862  tt0114709                en   \n",
       "\n",
       "  original_title                                           overview  ...  \\\n",
       "0      Toy Story  Led by Woody, Andy's toys live happily in his ...  ...   \n",
       "\n",
       "  release_date      revenue runtime                          spoken_languages  \\\n",
       "0   1995-10-30  373554033.0    81.0  [{'iso_639_1': 'en', 'name': 'English'}]   \n",
       "\n",
       "     status  tagline      title  video vote_average vote_count  \n",
       "0  Released      NaN  Toy Story  False          7.7     5415.0  \n",
       "\n",
       "[1 rows x 24 columns]"
      ]
     },
     "execution_count": 5,
     "metadata": {},
     "output_type": "execute_result"
    }
   ],
   "source": [
    "print(df_movies.shape)\n",
    "df_movies.head(1)"
   ]
  },
  {
   "cell_type": "code",
   "execution_count": 6,
   "metadata": {},
   "outputs": [
    {
     "name": "stdout",
     "output_type": "stream",
     "text": [
      "(45476, 3)\n"
     ]
    },
    {
     "data": {
      "text/html": [
       "<div>\n",
       "<style scoped>\n",
       "    .dataframe tbody tr th:only-of-type {\n",
       "        vertical-align: middle;\n",
       "    }\n",
       "\n",
       "    .dataframe tbody tr th {\n",
       "        vertical-align: top;\n",
       "    }\n",
       "\n",
       "    .dataframe thead th {\n",
       "        text-align: right;\n",
       "    }\n",
       "</style>\n",
       "<table border=\"1\" class=\"dataframe\">\n",
       "  <thead>\n",
       "    <tr style=\"text-align: right;\">\n",
       "      <th></th>\n",
       "      <th>cast</th>\n",
       "      <th>crew</th>\n",
       "      <th>id</th>\n",
       "    </tr>\n",
       "  </thead>\n",
       "  <tbody>\n",
       "    <tr>\n",
       "      <th>0</th>\n",
       "      <td>[{'cast_id': 14, 'character': 'Woody (voice)',...</td>\n",
       "      <td>[{'credit_id': '52fe4284c3a36847f8024f49', 'de...</td>\n",
       "      <td>862</td>\n",
       "    </tr>\n",
       "  </tbody>\n",
       "</table>\n",
       "</div>"
      ],
      "text/plain": [
       "                                                cast  \\\n",
       "0  [{'cast_id': 14, 'character': 'Woody (voice)',...   \n",
       "\n",
       "                                                crew   id  \n",
       "0  [{'credit_id': '52fe4284c3a36847f8024f49', 'de...  862  "
      ]
     },
     "execution_count": 6,
     "metadata": {},
     "output_type": "execute_result"
    }
   ],
   "source": [
    "print(df_credits.shape)\n",
    "df_credits.head(1)"
   ]
  },
  {
   "cell_type": "code",
   "execution_count": 7,
   "metadata": {},
   "outputs": [
    {
     "data": {
      "text/plain": [
       "0           862\n",
       "1          8844\n",
       "2         15602\n",
       "3         31357\n",
       "4         11862\n",
       "          ...  \n",
       "45461    439050\n",
       "45462    111109\n",
       "45463     67758\n",
       "45464    227506\n",
       "45465    461257\n",
       "Name: id, Length: 45463, dtype: int64"
      ]
     },
     "execution_count": 7,
     "metadata": {},
     "output_type": "execute_result"
    }
   ],
   "source": [
    "#Normalizamos las columna 'id' para poder hacer un join entre ambos datasets\n",
    "df_movies['id'] = pd.to_numeric(df_movies['id'], errors='coerce')\n",
    "df_movies.dropna(subset=['id'], inplace=True)\n",
    "df_movies['id'].astype('int64')"
   ]
  },
  {
   "cell_type": "code",
   "execution_count": 8,
   "metadata": {},
   "outputs": [
    {
     "name": "stdout",
     "output_type": "stream",
     "text": [
      "(14133, 26)\n"
     ]
    },
    {
     "data": {
      "text/html": [
       "<div>\n",
       "<style scoped>\n",
       "    .dataframe tbody tr th:only-of-type {\n",
       "        vertical-align: middle;\n",
       "    }\n",
       "\n",
       "    .dataframe tbody tr th {\n",
       "        vertical-align: top;\n",
       "    }\n",
       "\n",
       "    .dataframe thead th {\n",
       "        text-align: right;\n",
       "    }\n",
       "</style>\n",
       "<table border=\"1\" class=\"dataframe\">\n",
       "  <thead>\n",
       "    <tr style=\"text-align: right;\">\n",
       "      <th></th>\n",
       "      <th>adult</th>\n",
       "      <th>belongs_to_collection</th>\n",
       "      <th>budget</th>\n",
       "      <th>genres</th>\n",
       "      <th>homepage</th>\n",
       "      <th>id</th>\n",
       "      <th>imdb_id</th>\n",
       "      <th>original_language</th>\n",
       "      <th>original_title</th>\n",
       "      <th>overview</th>\n",
       "      <th>...</th>\n",
       "      <th>runtime</th>\n",
       "      <th>spoken_languages</th>\n",
       "      <th>status</th>\n",
       "      <th>tagline</th>\n",
       "      <th>title</th>\n",
       "      <th>video</th>\n",
       "      <th>vote_average</th>\n",
       "      <th>vote_count</th>\n",
       "      <th>cast</th>\n",
       "      <th>crew</th>\n",
       "    </tr>\n",
       "  </thead>\n",
       "  <tbody>\n",
       "    <tr>\n",
       "      <th>2</th>\n",
       "      <td>False</td>\n",
       "      <td>NaN</td>\n",
       "      <td>4000000</td>\n",
       "      <td>[{'id': 80, 'name': 'Crime'}, {'id': 35, 'name...</td>\n",
       "      <td>NaN</td>\n",
       "      <td>5.0</td>\n",
       "      <td>tt0113101</td>\n",
       "      <td>en</td>\n",
       "      <td>Four Rooms</td>\n",
       "      <td>It's Ted the Bellhop's first night on the job....</td>\n",
       "      <td>...</td>\n",
       "      <td>98.0</td>\n",
       "      <td>[{'iso_639_1': 'en', 'name': 'English'}]</td>\n",
       "      <td>Released</td>\n",
       "      <td>Twelve outrageous guests. Four scandalous requ...</td>\n",
       "      <td>Four Rooms</td>\n",
       "      <td>False</td>\n",
       "      <td>6.5</td>\n",
       "      <td>539.0</td>\n",
       "      <td>[{'cast_id': 42, 'character': 'Ted the Bellhop...</td>\n",
       "      <td>[{'credit_id': '52fe420dc3a36847f800011b', 'de...</td>\n",
       "    </tr>\n",
       "  </tbody>\n",
       "</table>\n",
       "<p>1 rows × 26 columns</p>\n",
       "</div>"
      ],
      "text/plain": [
       "   adult belongs_to_collection   budget  \\\n",
       "2  False                   NaN  4000000   \n",
       "\n",
       "                                              genres homepage   id    imdb_id  \\\n",
       "2  [{'id': 80, 'name': 'Crime'}, {'id': 35, 'name...      NaN  5.0  tt0113101   \n",
       "\n",
       "  original_language original_title  \\\n",
       "2                en     Four Rooms   \n",
       "\n",
       "                                            overview  ...  runtime  \\\n",
       "2  It's Ted the Bellhop's first night on the job....  ...     98.0   \n",
       "\n",
       "                           spoken_languages    status  \\\n",
       "2  [{'iso_639_1': 'en', 'name': 'English'}]  Released   \n",
       "\n",
       "                                             tagline       title  video  \\\n",
       "2  Twelve outrageous guests. Four scandalous requ...  Four Rooms  False   \n",
       "\n",
       "   vote_average vote_count                                               cast  \\\n",
       "2           6.5      539.0  [{'cast_id': 42, 'character': 'Ted the Bellhop...   \n",
       "\n",
       "                                                crew  \n",
       "2  [{'credit_id': '52fe420dc3a36847f800011b', 'de...  \n",
       "\n",
       "[1 rows x 26 columns]"
      ]
     },
     "execution_count": 8,
     "metadata": {},
     "output_type": "execute_result"
    }
   ],
   "source": [
    "df_joined = df_movies.merge(df_credits, on='id', how='outer') #hacemos el join\n",
    "\n",
    "#Tratamos el nuevo dataframe reduciendo el tamaño, para es definimos los idiomas a los más conocido, sacamos las películas más antiguas\n",
    "#y las de popularidad menor a 2.0\n",
    "languages = ['en', 'fr', 'it', 'de', 'ar', 'es','uk']\n",
    "df_joined['popularity'] = pd.to_numeric(df_joined['popularity'], downcast='signed', errors='coerce')\n",
    "df_joined.query(\"status == 'Released' and popularity >= 2.0 and release_date >= '1950-1-1' and original_language == @languages\", inplace=True)\n",
    "print(df_joined.shape)\n",
    "df_joined.head(1)"
   ]
  },
  {
   "cell_type": "code",
   "execution_count": 9,
   "metadata": {},
   "outputs": [
    {
     "name": "stdout",
     "output_type": "stream",
     "text": [
      "(14133, 26)\n"
     ]
    },
    {
     "data": {
      "text/plain": [
       "Index(['adult', 'belongs_to_collection', 'budget', 'genres', 'homepage', 'id',\n",
       "       'imdb_id', 'original_language', 'original_title', 'overview',\n",
       "       'popularity', 'poster_path', 'production_companies',\n",
       "       'production_countries', 'release_date', 'revenue', 'runtime',\n",
       "       'spoken_languages', 'status', 'tagline', 'title', 'video',\n",
       "       'vote_average', 'vote_count', 'cast', 'crew'],\n",
       "      dtype='object')"
      ]
     },
     "execution_count": 9,
     "metadata": {},
     "output_type": "execute_result"
    }
   ],
   "source": [
    "print(df_joined.shape)\n",
    "df_joined.columns"
   ]
  },
  {
   "cell_type": "code",
   "execution_count": 10,
   "metadata": {},
   "outputs": [
    {
     "name": "stdout",
     "output_type": "stream",
     "text": [
      "(2397, 7)\n"
     ]
    },
    {
     "name": "stderr",
     "output_type": "stream",
     "text": [
      "C:\\Users\\house\\AppData\\Local\\Temp\\ipykernel_41632\\287227341.py:3: SettingWithCopyWarning: \n",
      "A value is trying to be set on a copy of a slice from a DataFrame\n",
      "\n",
      "See the caveats in the documentation: https://pandas.pydata.org/pandas-docs/stable/user_guide/indexing.html#returning-a-view-versus-a-copy\n",
      "  df_eda.dropna(inplace=True) #Eliminamos los datos no válidos\n"
     ]
    },
    {
     "data": {
      "text/html": [
       "<div>\n",
       "<style scoped>\n",
       "    .dataframe tbody tr th:only-of-type {\n",
       "        vertical-align: middle;\n",
       "    }\n",
       "\n",
       "    .dataframe tbody tr th {\n",
       "        vertical-align: top;\n",
       "    }\n",
       "\n",
       "    .dataframe thead th {\n",
       "        text-align: right;\n",
       "    }\n",
       "</style>\n",
       "<table border=\"1\" class=\"dataframe\">\n",
       "  <thead>\n",
       "    <tr style=\"text-align: right;\">\n",
       "      <th></th>\n",
       "      <th>id</th>\n",
       "      <th>belongs_to_collection</th>\n",
       "      <th>genres</th>\n",
       "      <th>overview</th>\n",
       "      <th>title</th>\n",
       "      <th>cast</th>\n",
       "      <th>crew</th>\n",
       "    </tr>\n",
       "  </thead>\n",
       "  <tbody>\n",
       "    <tr>\n",
       "      <th>4</th>\n",
       "      <td>11.0</td>\n",
       "      <td>{'id': 10, 'name': 'Star Wars Collection', 'po...</td>\n",
       "      <td>[{'id': 12, 'name': 'Adventure'}, {'id': 28, '...</td>\n",
       "      <td>Princess Leia is captured and held hostage by ...</td>\n",
       "      <td>Star Wars</td>\n",
       "      <td>[{'cast_id': 3, 'character': 'Luke Skywalker',...</td>\n",
       "      <td>[{'credit_id': '52fe420dc3a36847f8000437', 'de...</td>\n",
       "    </tr>\n",
       "  </tbody>\n",
       "</table>\n",
       "</div>"
      ],
      "text/plain": [
       "     id                              belongs_to_collection  \\\n",
       "4  11.0  {'id': 10, 'name': 'Star Wars Collection', 'po...   \n",
       "\n",
       "                                              genres  \\\n",
       "4  [{'id': 12, 'name': 'Adventure'}, {'id': 28, '...   \n",
       "\n",
       "                                            overview      title  \\\n",
       "4  Princess Leia is captured and held hostage by ...  Star Wars   \n",
       "\n",
       "                                                cast  \\\n",
       "4  [{'cast_id': 3, 'character': 'Luke Skywalker',...   \n",
       "\n",
       "                                                crew  \n",
       "4  [{'credit_id': '52fe420dc3a36847f8000437', 'de...  "
      ]
     },
     "execution_count": 10,
     "metadata": {},
     "output_type": "execute_result"
    }
   ],
   "source": [
    "#Creamos otro dataframe sólo con las columnas de interés para nuestro modelo\n",
    "df_eda = df_joined[['id', 'belongs_to_collection', 'genres', 'overview', 'title', 'cast', 'crew']]\n",
    "df_eda.dropna(inplace=True) #Eliminamos los datos no válidos\n",
    "print(df_eda.shape)\n",
    "df_eda.head(1)"
   ]
  },
  {
   "cell_type": "code",
   "execution_count": 11,
   "metadata": {},
   "outputs": [],
   "source": [
    "#Creamos las siguientes funciones para extraer la información de las columnas anidadas\n",
    "\n",
    "#Esta función itera por cada una de las filas de la columna y extrae la clave 'name'\n",
    "def extraer(texto):\n",
    "    lista = []    \n",
    "    datos = ast.literal_eval(texto)    #metodo literal_eval() convierte el texto en un objeto python como lista o diccionario\n",
    "    if isinstance(datos, list):     #Verificamos que sea una lista e iteramos sobre cada elemento de ella para acceder a cada elemento\n",
    "        for item in datos:\n",
    "            if isinstance(item, dict) and 'name' in item: #Verificamos que sea un diccionario e iteramos sobre cada elemento de el para extraer   \n",
    "                lista.append(item['name'])                  #la clave 'name' y agregarla a la lista\n",
    "    elif isinstance(datos, dict) and 'name' in datos:\n",
    "        lista.append(datos['name'])    \n",
    "    return lista  #Devolvemos la lista con todos los valores de la clave 'name'\n",
    "\n",
    "#Esta función itera por cada una de las filas de la columna y extrae la clave 'name', pero le agrega una condicion\n",
    "def directores(texto):\n",
    "    lista = []    \n",
    "    for i in ast.literal_eval(texto):   #metodo literal_eval() convierte el texto en un objeto python como lista o diccionario\n",
    "        if i['job'] == 'Director':   #se condiciona a sólo extraer los elementos cuando la columna 'job' tiene el valor de 'Director'\n",
    "            lista.append(i['name'])\n",
    "    return lista\n",
    "\n",
    "#función que sirve para normalizar las palabras y oraciones quietando todo los espacios en ellas\n",
    "def del_espacios(texto):\n",
    "    lista = []\n",
    "    for i in texto:\n",
    "        lista.append(i.replace(\" \", \"\"))\n",
    "    return lista\n"
   ]
  },
  {
   "cell_type": "code",
   "execution_count": 12,
   "metadata": {},
   "outputs": [
    {
     "name": "stderr",
     "output_type": "stream",
     "text": [
      "C:\\Users\\house\\AppData\\Local\\Temp\\ipykernel_41632\\3270208206.py:3: SettingWithCopyWarning: \n",
      "A value is trying to be set on a copy of a slice from a DataFrame.\n",
      "Try using .loc[row_indexer,col_indexer] = value instead\n",
      "\n",
      "See the caveats in the documentation: https://pandas.pydata.org/pandas-docs/stable/user_guide/indexing.html#returning-a-view-versus-a-copy\n",
      "  df_eda['genres'] = df_eda['genres'].apply(extraer)\n",
      "C:\\Users\\house\\AppData\\Local\\Temp\\ipykernel_41632\\3270208206.py:4: SettingWithCopyWarning: \n",
      "A value is trying to be set on a copy of a slice from a DataFrame.\n",
      "Try using .loc[row_indexer,col_indexer] = value instead\n",
      "\n",
      "See the caveats in the documentation: https://pandas.pydata.org/pandas-docs/stable/user_guide/indexing.html#returning-a-view-versus-a-copy\n",
      "  df_eda['cast'] = df_eda['cast'].apply(extraer)\n",
      "C:\\Users\\house\\AppData\\Local\\Temp\\ipykernel_41632\\3270208206.py:5: SettingWithCopyWarning: \n",
      "A value is trying to be set on a copy of a slice from a DataFrame.\n",
      "Try using .loc[row_indexer,col_indexer] = value instead\n",
      "\n",
      "See the caveats in the documentation: https://pandas.pydata.org/pandas-docs/stable/user_guide/indexing.html#returning-a-view-versus-a-copy\n",
      "  df_eda['cast'] = df_eda['cast'].apply(lambda x: x[0:3]) #Esta función sólo elije a los 3 principales actores que se encuentran en la fila\n",
      "C:\\Users\\house\\AppData\\Local\\Temp\\ipykernel_41632\\3270208206.py:6: SettingWithCopyWarning: \n",
      "A value is trying to be set on a copy of a slice from a DataFrame.\n",
      "Try using .loc[row_indexer,col_indexer] = value instead\n",
      "\n",
      "See the caveats in the documentation: https://pandas.pydata.org/pandas-docs/stable/user_guide/indexing.html#returning-a-view-versus-a-copy\n",
      "  df_eda['belongs_to_collection'] = df_eda['belongs_to_collection'].apply(extraer)\n",
      "C:\\Users\\house\\AppData\\Local\\Temp\\ipykernel_41632\\3270208206.py:7: SettingWithCopyWarning: \n",
      "A value is trying to be set on a copy of a slice from a DataFrame.\n",
      "Try using .loc[row_indexer,col_indexer] = value instead\n",
      "\n",
      "See the caveats in the documentation: https://pandas.pydata.org/pandas-docs/stable/user_guide/indexing.html#returning-a-view-versus-a-copy\n",
      "  df_eda['crew'] = df_eda['crew'].apply(directores)\n",
      "C:\\Users\\house\\AppData\\Local\\Temp\\ipykernel_41632\\3270208206.py:8: SettingWithCopyWarning: \n",
      "A value is trying to be set on a copy of a slice from a DataFrame.\n",
      "Try using .loc[row_indexer,col_indexer] = value instead\n",
      "\n",
      "See the caveats in the documentation: https://pandas.pydata.org/pandas-docs/stable/user_guide/indexing.html#returning-a-view-versus-a-copy\n",
      "  df_eda['overview'] = df_eda['overview'].apply(lambda x: x.split()) #convertimos la cadena de texto en un lista de palabras\n",
      "C:\\Users\\house\\AppData\\Local\\Temp\\ipykernel_41632\\3270208206.py:10: SettingWithCopyWarning: \n",
      "A value is trying to be set on a copy of a slice from a DataFrame.\n",
      "Try using .loc[row_indexer,col_indexer] = value instead\n",
      "\n",
      "See the caveats in the documentation: https://pandas.pydata.org/pandas-docs/stable/user_guide/indexing.html#returning-a-view-versus-a-copy\n",
      "  df_eda['belongs_to_collection'] = df_eda['belongs_to_collection'].apply(del_espacios)\n",
      "C:\\Users\\house\\AppData\\Local\\Temp\\ipykernel_41632\\3270208206.py:11: SettingWithCopyWarning: \n",
      "A value is trying to be set on a copy of a slice from a DataFrame.\n",
      "Try using .loc[row_indexer,col_indexer] = value instead\n",
      "\n",
      "See the caveats in the documentation: https://pandas.pydata.org/pandas-docs/stable/user_guide/indexing.html#returning-a-view-versus-a-copy\n",
      "  df_eda['genres'] = df_eda['genres'].apply(del_espacios)\n",
      "C:\\Users\\house\\AppData\\Local\\Temp\\ipykernel_41632\\3270208206.py:12: SettingWithCopyWarning: \n",
      "A value is trying to be set on a copy of a slice from a DataFrame.\n",
      "Try using .loc[row_indexer,col_indexer] = value instead\n",
      "\n",
      "See the caveats in the documentation: https://pandas.pydata.org/pandas-docs/stable/user_guide/indexing.html#returning-a-view-versus-a-copy\n",
      "  df_eda['cast'] = df_eda['cast'].apply(del_espacios)\n",
      "C:\\Users\\house\\AppData\\Local\\Temp\\ipykernel_41632\\3270208206.py:13: SettingWithCopyWarning: \n",
      "A value is trying to be set on a copy of a slice from a DataFrame.\n",
      "Try using .loc[row_indexer,col_indexer] = value instead\n",
      "\n",
      "See the caveats in the documentation: https://pandas.pydata.org/pandas-docs/stable/user_guide/indexing.html#returning-a-view-versus-a-copy\n",
      "  df_eda['crew'] = df_eda['crew'].apply(del_espacios)\n",
      "C:\\Users\\house\\AppData\\Local\\Temp\\ipykernel_41632\\3270208206.py:16: SettingWithCopyWarning: \n",
      "A value is trying to be set on a copy of a slice from a DataFrame.\n",
      "Try using .loc[row_indexer,col_indexer] = value instead\n",
      "\n",
      "See the caveats in the documentation: https://pandas.pydata.org/pandas-docs/stable/user_guide/indexing.html#returning-a-view-versus-a-copy\n",
      "  df_eda['overview'] = df_eda['overview'].apply(lambda x: list(filter(lambda y: y and y.strip(), x)))\n"
     ]
    }
   ],
   "source": [
    "#Se aplican las funciones anteriores sobre las columnas para normalizar y extraer sólo las palabras que sirven para el modelo\n",
    "\n",
    "df_eda['genres'] = df_eda['genres'].apply(extraer)\n",
    "df_eda['cast'] = df_eda['cast'].apply(extraer)\n",
    "df_eda['cast'] = df_eda['cast'].apply(lambda x: x[0:3]) #Esta función sólo elije a los 3 principales actores que se encuentran en la fila\n",
    "df_eda['belongs_to_collection'] = df_eda['belongs_to_collection'].apply(extraer)\n",
    "df_eda['crew'] = df_eda['crew'].apply(directores)\n",
    "df_eda['overview'] = df_eda['overview'].apply(lambda x: x.split()) #convertimos la cadena de texto en un lista de palabras\n",
    "\n",
    "df_eda['belongs_to_collection'] = df_eda['belongs_to_collection'].apply(del_espacios)\n",
    "df_eda['genres'] = df_eda['genres'].apply(del_espacios)\n",
    "df_eda['cast'] = df_eda['cast'].apply(del_espacios)\n",
    "df_eda['crew'] = df_eda['crew'].apply(del_espacios)\n",
    "\n",
    "#aplicamos un funcion lambda para eliminar espacios vacíos en la lista\n",
    "df_eda['overview'] = df_eda['overview'].apply(lambda x: list(filter(lambda y: y and y.strip(), x)))"
   ]
  },
  {
   "cell_type": "code",
   "execution_count": 13,
   "metadata": {},
   "outputs": [
    {
     "name": "stderr",
     "output_type": "stream",
     "text": [
      "C:\\Users\\house\\AppData\\Local\\Temp\\ipykernel_41632\\1580857825.py:2: SettingWithCopyWarning: \n",
      "A value is trying to be set on a copy of a slice from a DataFrame.\n",
      "Try using .loc[row_indexer,col_indexer] = value instead\n",
      "\n",
      "See the caveats in the documentation: https://pandas.pydata.org/pandas-docs/stable/user_guide/indexing.html#returning-a-view-versus-a-copy\n",
      "  df_eda['tags'] = df_eda['belongs_to_collection'] + df_eda['genres'] + df_eda['overview'] + df_eda['cast'] + df_eda['crew']\n"
     ]
    },
    {
     "data": {
      "text/html": [
       "<div>\n",
       "<style scoped>\n",
       "    .dataframe tbody tr th:only-of-type {\n",
       "        vertical-align: middle;\n",
       "    }\n",
       "\n",
       "    .dataframe tbody tr th {\n",
       "        vertical-align: top;\n",
       "    }\n",
       "\n",
       "    .dataframe thead th {\n",
       "        text-align: right;\n",
       "    }\n",
       "</style>\n",
       "<table border=\"1\" class=\"dataframe\">\n",
       "  <thead>\n",
       "    <tr style=\"text-align: right;\">\n",
       "      <th></th>\n",
       "      <th>id</th>\n",
       "      <th>belongs_to_collection</th>\n",
       "      <th>genres</th>\n",
       "      <th>overview</th>\n",
       "      <th>title</th>\n",
       "      <th>cast</th>\n",
       "      <th>crew</th>\n",
       "      <th>tags</th>\n",
       "    </tr>\n",
       "  </thead>\n",
       "  <tbody>\n",
       "    <tr>\n",
       "      <th>4</th>\n",
       "      <td>11.0</td>\n",
       "      <td>[StarWarsCollection]</td>\n",
       "      <td>[Adventure, Action, ScienceFiction]</td>\n",
       "      <td>[Princess, Leia, is, captured, and, held, host...</td>\n",
       "      <td>Star Wars</td>\n",
       "      <td>[MarkHamill, HarrisonFord, CarrieFisher]</td>\n",
       "      <td>[GeorgeLucas]</td>\n",
       "      <td>[StarWarsCollection, Adventure, Action, Scienc...</td>\n",
       "    </tr>\n",
       "    <tr>\n",
       "      <th>5</th>\n",
       "      <td>12.0</td>\n",
       "      <td>[FindingNemoCollection]</td>\n",
       "      <td>[Animation, Family]</td>\n",
       "      <td>[Nemo,, an, adventurous, young, clownfish,, is...</td>\n",
       "      <td>Finding Nemo</td>\n",
       "      <td>[AlbertBrooks, EllenDeGeneres, AlexanderGould]</td>\n",
       "      <td>[AndrewStanton]</td>\n",
       "      <td>[FindingNemoCollection, Animation, Family, Nem...</td>\n",
       "    </tr>\n",
       "    <tr>\n",
       "      <th>9</th>\n",
       "      <td>16.0</td>\n",
       "      <td>[HeartofGoldCollection]</td>\n",
       "      <td>[Drama, Crime, Music]</td>\n",
       "      <td>[Selma,, a, Czech, immigrant, on, the, verge, ...</td>\n",
       "      <td>Dancer in the Dark</td>\n",
       "      <td>[Björk, CatherineDeneuve, DavidMorse]</td>\n",
       "      <td>[LarsvonTrier]</td>\n",
       "      <td>[HeartofGoldCollection, Drama, Crime, Music, S...</td>\n",
       "    </tr>\n",
       "    <tr>\n",
       "      <th>15</th>\n",
       "      <td>22.0</td>\n",
       "      <td>[PiratesoftheCaribbeanCollection]</td>\n",
       "      <td>[Adventure, Fantasy, Action]</td>\n",
       "      <td>[Jack, Sparrow,, a, freewheeling, 17th-century...</td>\n",
       "      <td>Pirates of the Caribbean: The Curse of the Bla...</td>\n",
       "      <td>[JohnnyDepp, GeoffreyRush, OrlandoBloom]</td>\n",
       "      <td>[GoreVerbinski]</td>\n",
       "      <td>[PiratesoftheCaribbeanCollection, Adventure, F...</td>\n",
       "    </tr>\n",
       "    <tr>\n",
       "      <th>16</th>\n",
       "      <td>24.0</td>\n",
       "      <td>[KillBillCollection]</td>\n",
       "      <td>[Action, Crime]</td>\n",
       "      <td>[An, assassin, is, shot, at, the, altar, by, h...</td>\n",
       "      <td>Kill Bill: Vol. 1</td>\n",
       "      <td>[UmaThurman, LucyLiu, VivicaA.Fox]</td>\n",
       "      <td>[QuentinTarantino]</td>\n",
       "      <td>[KillBillCollection, Action, Crime, An, assass...</td>\n",
       "    </tr>\n",
       "  </tbody>\n",
       "</table>\n",
       "</div>"
      ],
      "text/plain": [
       "      id              belongs_to_collection  \\\n",
       "4   11.0               [StarWarsCollection]   \n",
       "5   12.0            [FindingNemoCollection]   \n",
       "9   16.0            [HeartofGoldCollection]   \n",
       "15  22.0  [PiratesoftheCaribbeanCollection]   \n",
       "16  24.0               [KillBillCollection]   \n",
       "\n",
       "                                 genres  \\\n",
       "4   [Adventure, Action, ScienceFiction]   \n",
       "5                   [Animation, Family]   \n",
       "9                 [Drama, Crime, Music]   \n",
       "15         [Adventure, Fantasy, Action]   \n",
       "16                      [Action, Crime]   \n",
       "\n",
       "                                             overview  \\\n",
       "4   [Princess, Leia, is, captured, and, held, host...   \n",
       "5   [Nemo,, an, adventurous, young, clownfish,, is...   \n",
       "9   [Selma,, a, Czech, immigrant, on, the, verge, ...   \n",
       "15  [Jack, Sparrow,, a, freewheeling, 17th-century...   \n",
       "16  [An, assassin, is, shot, at, the, altar, by, h...   \n",
       "\n",
       "                                                title  \\\n",
       "4                                           Star Wars   \n",
       "5                                        Finding Nemo   \n",
       "9                                  Dancer in the Dark   \n",
       "15  Pirates of the Caribbean: The Curse of the Bla...   \n",
       "16                                  Kill Bill: Vol. 1   \n",
       "\n",
       "                                              cast                crew  \\\n",
       "4         [MarkHamill, HarrisonFord, CarrieFisher]       [GeorgeLucas]   \n",
       "5   [AlbertBrooks, EllenDeGeneres, AlexanderGould]     [AndrewStanton]   \n",
       "9            [Björk, CatherineDeneuve, DavidMorse]      [LarsvonTrier]   \n",
       "15        [JohnnyDepp, GeoffreyRush, OrlandoBloom]     [GoreVerbinski]   \n",
       "16              [UmaThurman, LucyLiu, VivicaA.Fox]  [QuentinTarantino]   \n",
       "\n",
       "                                                 tags  \n",
       "4   [StarWarsCollection, Adventure, Action, Scienc...  \n",
       "5   [FindingNemoCollection, Animation, Family, Nem...  \n",
       "9   [HeartofGoldCollection, Drama, Crime, Music, S...  \n",
       "15  [PiratesoftheCaribbeanCollection, Adventure, F...  \n",
       "16  [KillBillCollection, Action, Crime, An, assass...  "
      ]
     },
     "execution_count": 13,
     "metadata": {},
     "output_type": "execute_result"
    }
   ],
   "source": [
    "#Creamos una nueva columna que une todas las palabras ya tratadas en una sola\n",
    "df_eda['tags'] = df_eda['belongs_to_collection'] + df_eda['genres'] + df_eda['overview'] + df_eda['cast'] + df_eda['crew']\n",
    "\n",
    "df_eda.head()"
   ]
  },
  {
   "cell_type": "code",
   "execution_count": 14,
   "metadata": {},
   "outputs": [],
   "source": [
    "#Eliminamos todas las demás columnas que nos sirvieron para crear la columna 'Tags' con la que trabajaremos nuestro modelo\n",
    "#y reseteamos el índice\n",
    "df_for_analisys = df_eda.drop(columns=['overview', 'belongs_to_collection', 'genres', 'cast', 'crew'])\n",
    "df_for_analisys.reset_index(drop=True, inplace=True)\n"
   ]
  },
  {
   "cell_type": "code",
   "execution_count": 15,
   "metadata": {},
   "outputs": [
    {
     "name": "stdout",
     "output_type": "stream",
     "text": [
      "(2397, 3)\n"
     ]
    },
    {
     "data": {
      "text/html": [
       "<div>\n",
       "<style scoped>\n",
       "    .dataframe tbody tr th:only-of-type {\n",
       "        vertical-align: middle;\n",
       "    }\n",
       "\n",
       "    .dataframe tbody tr th {\n",
       "        vertical-align: top;\n",
       "    }\n",
       "\n",
       "    .dataframe thead th {\n",
       "        text-align: right;\n",
       "    }\n",
       "</style>\n",
       "<table border=\"1\" class=\"dataframe\">\n",
       "  <thead>\n",
       "    <tr style=\"text-align: right;\">\n",
       "      <th></th>\n",
       "      <th>id</th>\n",
       "      <th>title</th>\n",
       "      <th>tags</th>\n",
       "    </tr>\n",
       "  </thead>\n",
       "  <tbody>\n",
       "    <tr>\n",
       "      <th>0</th>\n",
       "      <td>11.0</td>\n",
       "      <td>Star Wars</td>\n",
       "      <td>StarWarsCollection Adventure Action ScienceFic...</td>\n",
       "    </tr>\n",
       "    <tr>\n",
       "      <th>1</th>\n",
       "      <td>12.0</td>\n",
       "      <td>Finding Nemo</td>\n",
       "      <td>FindingNemoCollection Animation Family Nemo, a...</td>\n",
       "    </tr>\n",
       "    <tr>\n",
       "      <th>2</th>\n",
       "      <td>16.0</td>\n",
       "      <td>Dancer in the Dark</td>\n",
       "      <td>HeartofGoldCollection Drama Crime Music Selma,...</td>\n",
       "    </tr>\n",
       "    <tr>\n",
       "      <th>3</th>\n",
       "      <td>22.0</td>\n",
       "      <td>Pirates of the Caribbean: The Curse of the Bla...</td>\n",
       "      <td>PiratesoftheCaribbeanCollection Adventure Fant...</td>\n",
       "    </tr>\n",
       "    <tr>\n",
       "      <th>4</th>\n",
       "      <td>24.0</td>\n",
       "      <td>Kill Bill: Vol. 1</td>\n",
       "      <td>KillBillCollection Action Crime An assassin is...</td>\n",
       "    </tr>\n",
       "  </tbody>\n",
       "</table>\n",
       "</div>"
      ],
      "text/plain": [
       "     id                                              title  \\\n",
       "0  11.0                                          Star Wars   \n",
       "1  12.0                                       Finding Nemo   \n",
       "2  16.0                                 Dancer in the Dark   \n",
       "3  22.0  Pirates of the Caribbean: The Curse of the Bla...   \n",
       "4  24.0                                  Kill Bill: Vol. 1   \n",
       "\n",
       "                                                tags  \n",
       "0  StarWarsCollection Adventure Action ScienceFic...  \n",
       "1  FindingNemoCollection Animation Family Nemo, a...  \n",
       "2  HeartofGoldCollection Drama Crime Music Selma,...  \n",
       "3  PiratesoftheCaribbeanCollection Adventure Fant...  \n",
       "4  KillBillCollection Action Crime An assassin is...  "
      ]
     },
     "execution_count": 15,
     "metadata": {},
     "output_type": "execute_result"
    }
   ],
   "source": [
    "#convertimos cada lista de palabras en una cadena de texto en la que cada palabra está separada por un espacio.\n",
    "df_for_analisys['tags'] = df_for_analisys['tags'].apply(lambda x: ' '.join(x))\n",
    "print(df_for_analisys.shape)\n",
    "df_for_analisys.head()"
   ]
  },
  {
   "cell_type": "code",
   "execution_count": 16,
   "metadata": {},
   "outputs": [
    {
     "name": "stdout",
     "output_type": "stream",
     "text": [
      "(2397, 3)\n"
     ]
    }
   ],
   "source": [
    "#revisamos las dimensiones del dataframe\n",
    "print(df_for_analisys.shape)"
   ]
  },
  {
   "cell_type": "code",
   "execution_count": 17,
   "metadata": {},
   "outputs": [
    {
     "name": "stdout",
     "output_type": "stream",
     "text": [
      "StarWarsCollection Adventure Action ScienceFiction Princess Leia is captured and held hostage by the evil Imperial forces in their effort to take over the galactic Empire. Venturesome Luke Skywalker and dashing captain Han Solo team together with the loveable robot duo R2-D2 and C-3PO to rescue the beautiful princess and restore peace and justice in the Empire. MarkHamill HarrisonFord CarrieFisher GeorgeLucas\n"
     ]
    }
   ],
   "source": [
    "#Visualizamos el resultado\n",
    "print(df_for_analisys['tags'].iloc[0])"
   ]
  },
  {
   "cell_type": "code",
   "execution_count": 18,
   "metadata": {},
   "outputs": [],
   "source": [
    "#Eliminamos los puntos y comas que pudiesen haber quedado entre medio\n",
    "df_for_analisys['tags'] = df_for_analisys['tags'].str.replace(r'[.,]', '', regex=True)"
   ]
  },
  {
   "cell_type": "code",
   "execution_count": 19,
   "metadata": {},
   "outputs": [],
   "source": [
    "#Guardamos el dataset que usaremos para crear el modelo\n",
    "df_for_analisys.to_csv('C:\\Python\\HENRY-Data-Science\\Proyecto_1\\Datasets\\dataset_recomendaciones.csv', index=False)"
   ]
  },
  {
   "cell_type": "markdown",
   "metadata": {},
   "source": [
    "Creamos el modelo"
   ]
  },
  {
   "cell_type": "code",
   "execution_count": 20,
   "metadata": {},
   "outputs": [],
   "source": [
    "#df_for_analisys = pd.read_csv('C:\\Python\\HENRY-Data-Science\\Proyecto_1\\Datasets\\dataset_recomendaciones.csv')"
   ]
  },
  {
   "cell_type": "code",
   "execution_count": 21,
   "metadata": {},
   "outputs": [
    {
     "data": {
      "text/plain": [
       "(2397, 2000)"
      ]
     },
     "execution_count": 21,
     "metadata": {},
     "output_type": "execute_result"
    }
   ],
   "source": [
    "#Vectorizamos convirtiendo la columna tags en una matriz numérica, donde cada fila de la matriz representa un conjunto de palabras (o \"tags\") \n",
    "# asociadas a cada película. Cada palabra tiene un puntaje basado en su importancia (TF-IDF) en el contexto de todos los documentos.\n",
    "\n",
    "tv = TfidfVectorizer(max_features=2000, stop_words='english') #Limitamos la matriz con las 2000 palabras más significativas y pasamos el\n",
    "                                                                # el parámetro 'stop_words=' para obviar las palabras sin aporte de significado (the, an, on, etc)\n",
    "\n",
    "#transformamos cada entrada de tags en una matriz dispersa de características TF-IDF, que en el análisis de texto es usada para ponderar la importancia\n",
    "#de una palabra en un documento considerando la frecuencia del texto y la frecuencia inversa de ese texto en el documento, vale decir\n",
    "#que las palabras que aparecen en muchos tags pierden ponderación\n",
    "\n",
    "vector = tv.fit_transform(df_for_analisys['tags'])\n",
    "vector.shape\n"
   ]
  },
  {
   "cell_type": "code",
   "execution_count": 22,
   "metadata": {},
   "outputs": [
    {
     "data": {
      "text/plain": [
       "array([[1.        , 0.        , 0.        , ..., 0.0064844 , 0.00554536,\n",
       "        0.01623254],\n",
       "       [0.        , 1.        , 0.        , ..., 0.        , 0.03518496,\n",
       "        0.        ],\n",
       "       [0.        , 0.        , 1.        , ..., 0.0655497 , 0.        ,\n",
       "        0.04016164],\n",
       "       ...,\n",
       "       [0.0064844 , 0.        , 0.0655497 , ..., 1.        , 0.        ,\n",
       "        0.01752967],\n",
       "       [0.00554536, 0.03518496, 0.        , ..., 0.        , 1.        ,\n",
       "        0.00373225],\n",
       "       [0.01623254, 0.        , 0.04016164, ..., 0.01752967, 0.00373225,\n",
       "        1.        ]])"
      ]
     },
     "execution_count": 22,
     "metadata": {},
     "output_type": "execute_result"
    }
   ],
   "source": [
    "#Creamos nuestra matriz de similaridad\n",
    "\n",
    "similaridad = cosine_similarity(vector)\n",
    "similaridad"
   ]
  },
  {
   "cell_type": "code",
   "execution_count": 23,
   "metadata": {},
   "outputs": [],
   "source": [
    "#Creamos una función de recomendación donde le pasamos el modelo hecho\n",
    "\n",
    "def recomendacion(pelicula:str):\n",
    "    pelicula = pelicula.title().strip() #Normalizamos el título\n",
    "\n",
    "    #Verificamos que el título exista dentro del dataset y si no lo hace que lance un mensaje de error\n",
    "    pelicula_fila = df_for_analisys[df_for_analisys['title'] == pelicula]\n",
    "    if pelicula_fila.empty:\n",
    "        raise ValueError(\"La película no fue encontrada\")\n",
    "    \n",
    "    indice = pelicula_fila.index[0]\n",
    "\n",
    "    #Se valida la matriz de similitud asegurándose de que esté cargada y bien configurada. De no estar configurada o cargada\n",
    "    #lanza un mensaje de error\n",
    "\n",
    "    if 'similaridad' not in globals() or len(similaridad) != len(df_for_analisys):\n",
    "        raise ValueError(\"La matriz de similaridad no está definida correctamente o no coincide con los datos.\")\n",
    "\n",
    "    #Calcula la distancia de los vectores para  conseguir las películas más cercanas entre ellas\n",
    "    distancia = sorted(list(enumerate(similaridad[indice])), reverse=True, key=lambda x: x[1])\n",
    "    recomendaciones = []\n",
    "\n",
    "    #Recorre las 5 primeras películas, dejando afuera el índice 0 ya que hace referencia a la misma película, y devuelve una lista\n",
    "    for i in distancia[1:6]:\n",
    "        recomendaciones = [df_for_analisys.iloc[i[0]].title for i in distancia[1:6]]\n",
    "    return recomendaciones"
   ]
  },
  {
   "cell_type": "code",
   "execution_count": 24,
   "metadata": {},
   "outputs": [
    {
     "data": {
      "text/plain": [
       "['Teenage Mutant Ninja Turtles II: The Secret of the Ooze',\n",
       " 'All Dogs Go to Heaven 2',\n",
       " 'Teenage Mutant Ninja Turtles III',\n",
       " 'Shiloh',\n",
       " 'Bambi II']"
      ]
     },
     "execution_count": 24,
     "metadata": {},
     "output_type": "execute_result"
    }
   ],
   "source": [
    "#Probamos la función\n",
    "recomendacion('finding nemo')"
   ]
  },
  {
   "cell_type": "code",
   "execution_count": 28,
   "metadata": {},
   "outputs": [],
   "source": [
    "def nube_palabras(pelicula:str):\n",
    "    pelicula = pelicula.title().strip() #Normalizamos el título\n",
    "\n",
    "    #Verificamos que el título exista dentro del dataset y si no lo hace que lance un mensaje de error\n",
    "    pelicula_fila = df_for_analisys[df_for_analisys['title'] == pelicula]\n",
    "    if pelicula_fila.empty:\n",
    "        raise ValueError(\"La película no fue encontrada\")\n",
    "\n",
    "    pelicula_indice = pelicula_fila.index[0]\n",
    "\n",
    "    # Obtener las películas más similares según la matriz de similaridad\n",
    "    distancia = sorted(list(enumerate(similaridad[pelicula_indice])), reverse=True, key=lambda x: x[1])\n",
    "\n",
    "    # Crear un diccionario con las películas y sus similitudes, pero se omite la película misma)\n",
    "    frecuencias = {df_for_analisys.iloc[i[0]].title: i[1] for i in distancia[1:11]}\n",
    "\n",
    "    # Se crear la nube de palabras\n",
    "    wordcloud = WordCloud(width=800, height=400, background_color=\"white\", colormap=\"viridis\")\n",
    "    wordcloud.generate_from_frequencies(frecuencias)\n",
    "\n",
    "    # Se plotea el resultado\n",
    "    plt.figure(figsize=(5, 5))\n",
    "    plt.imshow(wordcloud, interpolation='bilinear')\n",
    "    plt.axis(\"off\")\n",
    "    plt.title(f\"Películas similares a '{df_for_analisys.iloc[pelicula_indice].title}'\")\n",
    "    plt.show()"
   ]
  },
  {
   "cell_type": "code",
   "execution_count": 29,
   "metadata": {},
   "outputs": [
    {
     "data": {
      "image/png": "[encoded data removed]",
      "text/plain": [
       "<Figure size 500x500 with 1 Axes>"
      ]
     },
     "metadata": {},
     "output_type": "display_data"
    }
   ],
   "source": [
    "nube_palabras('hitman')"
   ]
  },
  {
   "cell_type": "code",
   "execution_count": 27,
   "metadata": {},
   "outputs": [],
   "source": [
    "#Exportamos los archivos del dataset y la matriz de similaridad en formato pkl con el modulo pickle\n",
    "#para así poder cargarla en el deploy de fastapi con render\n",
    "pickle.dump(df_for_analisys, open('peliculas.pkl', 'wb'))\n",
    "pickle.dump(similaridad, open('similaridad.pkl', 'wb'))"
   ]
  }
 ],
 "metadata": {
  "kernelspec": {
   "display_name": "proyectouno",
   "language": "python",
   "name": "python3"
  },
  "language_info": {
   "codemirror_mode": {
    "name": "ipython",
    "version": 3
   },
   "file_extension": ".py",
   "mimetype": "text/x-python",
   "name": "python",
   "nbconvert_exporter": "python",
   "pygments_lexer": "ipython3",
   "version": "3.11.0"
  }
 },
 "nbformat": 4,
 "nbformat_minor": 2
}
