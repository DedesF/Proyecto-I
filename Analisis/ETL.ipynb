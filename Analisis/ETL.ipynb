{
 "cells": [
  {
   "cell_type": "code",
   "execution_count": 1,
   "metadata": {},
   "outputs": [],
   "source": [
    "#Importación de las librerías usadas en el ETL\n",
    "import pandas as pd\n",
    "import numpy as np\n",
    "import ast\n",
    "from datetime import date"
   ]
  },
  {
   "cell_type": "code",
   "execution_count": 2,
   "metadata": {},
   "outputs": [
    {
     "name": "stderr",
     "output_type": "stream",
     "text": [
      "C:\\Users\\house\\AppData\\Local\\Temp\\ipykernel_24948\\841705796.py:2: DtypeWarning: Columns (10) have mixed types. Specify dtype option on import or set low_memory=False.\n",
      "  df_movies = pd.read_csv('C:\\Python\\HENRY-Data-Science\\Proyecto_1\\Datasets\\movies_dataset.csv')\n"
     ]
    }
   ],
   "source": [
    "#Carga de dataset\n",
    "df_movies = pd.read_csv('C:\\Python\\HENRY-Data-Science\\Proyecto_1\\Datasets\\movies_dataset.csv')\n",
    "df_credits = pd.read_csv('C:\\Python\\HENRY-Data-Science\\Proyecto_1\\Datasets\\credits.csv')"
   ]
  },
  {
   "cell_type": "code",
   "execution_count": 3,
   "metadata": {},
   "outputs": [
    {
     "name": "stdout",
     "output_type": "stream",
     "text": [
      "cast    object\n",
      "crew    object\n",
      "id       int64\n",
      "dtype: object\n",
      "adult                     object\n",
      "belongs_to_collection     object\n",
      "budget                    object\n",
      "genres                    object\n",
      "homepage                  object\n",
      "id                        object\n",
      "imdb_id                   object\n",
      "original_language         object\n",
      "original_title            object\n",
      "overview                  object\n",
      "popularity                object\n",
      "poster_path               object\n",
      "production_companies      object\n",
      "production_countries      object\n",
      "release_date              object\n",
      "revenue                  float64\n",
      "runtime                  float64\n",
      "spoken_languages          object\n",
      "status                    object\n",
      "tagline                   object\n",
      "title                     object\n",
      "video                     object\n",
      "vote_average             float64\n",
      "vote_count               float64\n",
      "dtype: object\n"
     ]
    }
   ],
   "source": [
    "#Exploración de columnas he información de los datasets\n",
    "print(df_credits.dtypes)\n",
    "print(df_movies.dtypes)"
   ]
  },
  {
   "cell_type": "code",
   "execution_count": 4,
   "metadata": {},
   "outputs": [
    {
     "data": {
      "text/html": [
       "<div>\n",
       "<style scoped>\n",
       "    .dataframe tbody tr th:only-of-type {\n",
       "        vertical-align: middle;\n",
       "    }\n",
       "\n",
       "    .dataframe tbody tr th {\n",
       "        vertical-align: top;\n",
       "    }\n",
       "\n",
       "    .dataframe thead th {\n",
       "        text-align: right;\n",
       "    }\n",
       "</style>\n",
       "<table border=\"1\" class=\"dataframe\">\n",
       "  <thead>\n",
       "    <tr style=\"text-align: right;\">\n",
       "      <th></th>\n",
       "      <th>adult</th>\n",
       "      <th>belongs_to_collection</th>\n",
       "      <th>budget</th>\n",
       "      <th>genres</th>\n",
       "      <th>homepage</th>\n",
       "      <th>id</th>\n",
       "      <th>imdb_id</th>\n",
       "      <th>original_language</th>\n",
       "      <th>original_title</th>\n",
       "      <th>overview</th>\n",
       "      <th>...</th>\n",
       "      <th>release_date</th>\n",
       "      <th>revenue</th>\n",
       "      <th>runtime</th>\n",
       "      <th>spoken_languages</th>\n",
       "      <th>status</th>\n",
       "      <th>tagline</th>\n",
       "      <th>title</th>\n",
       "      <th>video</th>\n",
       "      <th>vote_average</th>\n",
       "      <th>vote_count</th>\n",
       "    </tr>\n",
       "  </thead>\n",
       "  <tbody>\n",
       "    <tr>\n",
       "      <th>0</th>\n",
       "      <td>False</td>\n",
       "      <td>{'id': 10194, 'name': 'Toy Story Collection', ...</td>\n",
       "      <td>30000000</td>\n",
       "      <td>[{'id': 16, 'name': 'Animation'}, {'id': 35, '...</td>\n",
       "      <td>http://toystory.disney.com/toy-story</td>\n",
       "      <td>862</td>\n",
       "      <td>tt0114709</td>\n",
       "      <td>en</td>\n",
       "      <td>Toy Story</td>\n",
       "      <td>Led by Woody, Andy's toys live happily in his ...</td>\n",
       "      <td>...</td>\n",
       "      <td>1995-10-30</td>\n",
       "      <td>373554033.0</td>\n",
       "      <td>81.0</td>\n",
       "      <td>[{'iso_639_1': 'en', 'name': 'English'}]</td>\n",
       "      <td>Released</td>\n",
       "      <td>NaN</td>\n",
       "      <td>Toy Story</td>\n",
       "      <td>False</td>\n",
       "      <td>7.7</td>\n",
       "      <td>5415.0</td>\n",
       "    </tr>\n",
       "    <tr>\n",
       "      <th>1</th>\n",
       "      <td>False</td>\n",
       "      <td>NaN</td>\n",
       "      <td>65000000</td>\n",
       "      <td>[{'id': 12, 'name': 'Adventure'}, {'id': 14, '...</td>\n",
       "      <td>NaN</td>\n",
       "      <td>8844</td>\n",
       "      <td>tt0113497</td>\n",
       "      <td>en</td>\n",
       "      <td>Jumanji</td>\n",
       "      <td>When siblings Judy and Peter discover an encha...</td>\n",
       "      <td>...</td>\n",
       "      <td>1995-12-15</td>\n",
       "      <td>262797249.0</td>\n",
       "      <td>104.0</td>\n",
       "      <td>[{'iso_639_1': 'en', 'name': 'English'}, {'iso...</td>\n",
       "      <td>Released</td>\n",
       "      <td>Roll the dice and unleash the excitement!</td>\n",
       "      <td>Jumanji</td>\n",
       "      <td>False</td>\n",
       "      <td>6.9</td>\n",
       "      <td>2413.0</td>\n",
       "    </tr>\n",
       "  </tbody>\n",
       "</table>\n",
       "<p>2 rows × 24 columns</p>\n",
       "</div>"
      ],
      "text/plain": [
       "   adult                              belongs_to_collection    budget  \\\n",
       "0  False  {'id': 10194, 'name': 'Toy Story Collection', ...  30000000   \n",
       "1  False                                                NaN  65000000   \n",
       "\n",
       "                                              genres  \\\n",
       "0  [{'id': 16, 'name': 'Animation'}, {'id': 35, '...   \n",
       "1  [{'id': 12, 'name': 'Adventure'}, {'id': 14, '...   \n",
       "\n",
       "                               homepage    id    imdb_id original_language  \\\n",
       "0  http://toystory.disney.com/toy-story   862  tt0114709                en   \n",
       "1                                   NaN  8844  tt0113497                en   \n",
       "\n",
       "  original_title                                           overview  ...  \\\n",
       "0      Toy Story  Led by Woody, Andy's toys live happily in his ...  ...   \n",
       "1        Jumanji  When siblings Judy and Peter discover an encha...  ...   \n",
       "\n",
       "  release_date      revenue runtime  \\\n",
       "0   1995-10-30  373554033.0    81.0   \n",
       "1   1995-12-15  262797249.0   104.0   \n",
       "\n",
       "                                    spoken_languages    status  \\\n",
       "0           [{'iso_639_1': 'en', 'name': 'English'}]  Released   \n",
       "1  [{'iso_639_1': 'en', 'name': 'English'}, {'iso...  Released   \n",
       "\n",
       "                                     tagline      title  video vote_average  \\\n",
       "0                                        NaN  Toy Story  False          7.7   \n",
       "1  Roll the dice and unleash the excitement!    Jumanji  False          6.9   \n",
       "\n",
       "  vote_count  \n",
       "0     5415.0  \n",
       "1     2413.0  \n",
       "\n",
       "[2 rows x 24 columns]"
      ]
     },
     "execution_count": 4,
     "metadata": {},
     "output_type": "execute_result"
    }
   ],
   "source": [
    "df_movies.head(2)"
   ]
  },
  {
   "cell_type": "code",
   "execution_count": 5,
   "metadata": {},
   "outputs": [],
   "source": [
    "#Se elimina las columnas que no son de utilidad para el proyecto\n",
    "del_cols = ['adult', 'belongs_to_collection', 'homepage', 'imdb_id', 'original_title', 'overview', 'poster_path',\n",
    "'production_companies', 'production_countries', 'runtime', 'spoken_languages', 'tagline', 'video']\n",
    "df_movies.drop(labels=del_cols, axis=1, inplace=True)"
   ]
  },
  {
   "cell_type": "code",
   "execution_count": 6,
   "metadata": {},
   "outputs": [
    {
     "data": {
      "text/html": [
       "<div>\n",
       "<style scoped>\n",
       "    .dataframe tbody tr th:only-of-type {\n",
       "        vertical-align: middle;\n",
       "    }\n",
       "\n",
       "    .dataframe tbody tr th {\n",
       "        vertical-align: top;\n",
       "    }\n",
       "\n",
       "    .dataframe thead th {\n",
       "        text-align: right;\n",
       "    }\n",
       "</style>\n",
       "<table border=\"1\" class=\"dataframe\">\n",
       "  <thead>\n",
       "    <tr style=\"text-align: right;\">\n",
       "      <th></th>\n",
       "      <th>budget</th>\n",
       "      <th>genres</th>\n",
       "      <th>id</th>\n",
       "      <th>original_language</th>\n",
       "      <th>popularity</th>\n",
       "      <th>release_date</th>\n",
       "      <th>revenue</th>\n",
       "      <th>status</th>\n",
       "      <th>title</th>\n",
       "      <th>vote_average</th>\n",
       "      <th>vote_count</th>\n",
       "      <th>cast</th>\n",
       "      <th>crew</th>\n",
       "    </tr>\n",
       "  </thead>\n",
       "  <tbody>\n",
       "    <tr>\n",
       "      <th>0</th>\n",
       "      <td>30000000</td>\n",
       "      <td>[{'id': 16, 'name': 'Animation'}, {'id': 35, '...</td>\n",
       "      <td>862</td>\n",
       "      <td>en</td>\n",
       "      <td>21.946943</td>\n",
       "      <td>1995-10-30</td>\n",
       "      <td>373554033.0</td>\n",
       "      <td>Released</td>\n",
       "      <td>Toy Story</td>\n",
       "      <td>7.7</td>\n",
       "      <td>5415.0</td>\n",
       "      <td>[{'cast_id': 14, 'character': 'Woody (voice)',...</td>\n",
       "      <td>[{'credit_id': '52fe4284c3a36847f8024f49', 'de...</td>\n",
       "    </tr>\n",
       "    <tr>\n",
       "      <th>1</th>\n",
       "      <td>65000000</td>\n",
       "      <td>[{'id': 12, 'name': 'Adventure'}, {'id': 14, '...</td>\n",
       "      <td>8844</td>\n",
       "      <td>en</td>\n",
       "      <td>17.015539</td>\n",
       "      <td>1995-12-15</td>\n",
       "      <td>262797249.0</td>\n",
       "      <td>Released</td>\n",
       "      <td>Jumanji</td>\n",
       "      <td>6.9</td>\n",
       "      <td>2413.0</td>\n",
       "      <td>[{'cast_id': 1, 'character': 'Alan Parrish', '...</td>\n",
       "      <td>[{'credit_id': '52fe44bfc3a36847f80a7cd1', 'de...</td>\n",
       "    </tr>\n",
       "  </tbody>\n",
       "</table>\n",
       "</div>"
      ],
      "text/plain": [
       "     budget                                             genres    id  \\\n",
       "0  30000000  [{'id': 16, 'name': 'Animation'}, {'id': 35, '...   862   \n",
       "1  65000000  [{'id': 12, 'name': 'Adventure'}, {'id': 14, '...  8844   \n",
       "\n",
       "  original_language popularity release_date      revenue    status      title  \\\n",
       "0                en  21.946943   1995-10-30  373554033.0  Released  Toy Story   \n",
       "1                en  17.015539   1995-12-15  262797249.0  Released    Jumanji   \n",
       "\n",
       "   vote_average  vote_count  \\\n",
       "0           7.7      5415.0   \n",
       "1           6.9      2413.0   \n",
       "\n",
       "                                                cast  \\\n",
       "0  [{'cast_id': 14, 'character': 'Woody (voice)',...   \n",
       "1  [{'cast_id': 1, 'character': 'Alan Parrish', '...   \n",
       "\n",
       "                                                crew  \n",
       "0  [{'credit_id': '52fe4284c3a36847f8024f49', 'de...  \n",
       "1  [{'credit_id': '52fe44bfc3a36847f80a7cd1', 'de...  "
      ]
     },
     "execution_count": 6,
     "metadata": {},
     "output_type": "execute_result"
    }
   ],
   "source": [
    "#Se normaliza el tipo de las columnas id para hacer un join y unir ambas tablas\n",
    "df_credits['id'] = df_credits['id'].astype(str)\n",
    "df_inner_movies_credits = pd.merge(df_movies, df_credits, on='id', how='inner')\n",
    "df_inner_movies_credits.head(2)"
   ]
  },
  {
   "cell_type": "code",
   "execution_count": 7,
   "metadata": {},
   "outputs": [
    {
     "name": "stdout",
     "output_type": "stream",
     "text": [
      "budget                0\n",
      "genres                0\n",
      "id                    0\n",
      "original_language    11\n",
      "popularity            3\n",
      "release_date         87\n",
      "revenue               3\n",
      "status               84\n",
      "title                 3\n",
      "vote_average          3\n",
      "vote_count            3\n",
      "cast                  0\n",
      "crew                  0\n",
      "dtype: int64\n"
     ]
    }
   ],
   "source": [
    "#Se verifica si existen valores nulos en el data set\n",
    "print(df_inner_movies_credits.isnull().sum())"
   ]
  },
  {
   "cell_type": "code",
   "execution_count": null,
   "metadata": {},
   "outputs": [],
   "source": [
    "df_inner_movies_credits.fillna({'revenue':0}, inplace=True) #se reemplazan los valores nulos encontrados por 0\n",
    "\n",
    "#Normalizamos las columnas\n",
    "df_inner_movies_credits['budget'] = pd.to_numeric(df_inner_movies_credits['budget'], downcast='signed', errors='coerce') #pasamos a tipo numérico y le pasamos manejo de errores\n",
    "                                                                                                                        #en 'coarce' para que transforme en NaN los valores\n",
    "                                                                                                                        # no válidos\n",
    "df_inner_movies_credits['popularity'] = pd.to_numeric(df_inner_movies_credits['popularity'], downcast='signed', errors='coerce')\n",
    "df_inner_movies_credits['original_language'] = df_inner_movies_credits['original_language'].astype(str) #transformamos columna a tipo string\n",
    "df_inner_movies_credits['status'] = df_inner_movies_credits['status'].astype(str)\n",
    "df_inner_movies_credits['title'] = df_inner_movies_credits['title'].astype(str)\n",
    "df_inner_movies_credits['vote_average'] = pd.to_numeric(df_inner_movies_credits['vote_average'], downcast='signed', errors='coerce')\n",
    "df_inner_movies_credits['vote_count'] = pd.to_numeric(df_inner_movies_credits['vote_count'], downcast='signed', errors='coerce')\n",
    "df_inner_movies_credits['vote_count'] = df_inner_movies_credits['vote_count'].astype('Int64')#transformamos columna a tipo integer"
   ]
  },
  {
   "cell_type": "code",
   "execution_count": 9,
   "metadata": {},
   "outputs": [],
   "source": [
    "#Transformación de columna 'release-date' en una clase datetime y \n",
    "df_inner_movies_credits['release_date'] = pd.to_datetime(df_inner_movies_credits['release_date'], errors='coerce')\n",
    "\n",
    "#Se agrega la columna del año\n",
    "df_inner_movies_credits['year'] = df_inner_movies_credits['release_date'].dt.year.astype('Int64')"
   ]
  },
  {
   "cell_type": "code",
   "execution_count": 10,
   "metadata": {},
   "outputs": [],
   "source": [
    "#Se crea la columna 'return'\n",
    "df_inner_movies_credits['return'] = df_inner_movies_credits['revenue']/df_inner_movies_credits['budget']\n",
    "df_inner_movies_credits['return'] = df_inner_movies_credits['return'].replace([np.nan, np.inf], 0) #reemplazo con 0 los valores que presentan errores"
   ]
  },
  {
   "cell_type": "code",
   "execution_count": 11,
   "metadata": {},
   "outputs": [
    {
     "data": {
      "text/html": [
       "<div>\n",
       "<style scoped>\n",
       "    .dataframe tbody tr th:only-of-type {\n",
       "        vertical-align: middle;\n",
       "    }\n",
       "\n",
       "    .dataframe tbody tr th {\n",
       "        vertical-align: top;\n",
       "    }\n",
       "\n",
       "    .dataframe thead th {\n",
       "        text-align: right;\n",
       "    }\n",
       "</style>\n",
       "<table border=\"1\" class=\"dataframe\">\n",
       "  <thead>\n",
       "    <tr style=\"text-align: right;\">\n",
       "      <th></th>\n",
       "      <th>budget</th>\n",
       "      <th>genres</th>\n",
       "      <th>id</th>\n",
       "      <th>original_language</th>\n",
       "      <th>popularity</th>\n",
       "      <th>release_date</th>\n",
       "      <th>revenue</th>\n",
       "      <th>status</th>\n",
       "      <th>title</th>\n",
       "      <th>vote_average</th>\n",
       "      <th>vote_count</th>\n",
       "      <th>cast</th>\n",
       "      <th>crew</th>\n",
       "      <th>year</th>\n",
       "      <th>return</th>\n",
       "    </tr>\n",
       "  </thead>\n",
       "  <tbody>\n",
       "    <tr>\n",
       "      <th>0</th>\n",
       "      <td>30000000</td>\n",
       "      <td>[{'id': 16, 'name': 'Animation'}, {'id': 35, '...</td>\n",
       "      <td>862</td>\n",
       "      <td>en</td>\n",
       "      <td>21.946943</td>\n",
       "      <td>1995-10-30</td>\n",
       "      <td>373554033.0</td>\n",
       "      <td>Released</td>\n",
       "      <td>Toy Story</td>\n",
       "      <td>7.7</td>\n",
       "      <td>5415</td>\n",
       "      <td>[{'cast_id': 14, 'character': 'Woody (voice)',...</td>\n",
       "      <td>[{'credit_id': '52fe4284c3a36847f8024f49', 'de...</td>\n",
       "      <td>1995</td>\n",
       "      <td>12.451801</td>\n",
       "    </tr>\n",
       "    <tr>\n",
       "      <th>1</th>\n",
       "      <td>65000000</td>\n",
       "      <td>[{'id': 12, 'name': 'Adventure'}, {'id': 14, '...</td>\n",
       "      <td>8844</td>\n",
       "      <td>en</td>\n",
       "      <td>17.015539</td>\n",
       "      <td>1995-12-15</td>\n",
       "      <td>262797249.0</td>\n",
       "      <td>Released</td>\n",
       "      <td>Jumanji</td>\n",
       "      <td>6.9</td>\n",
       "      <td>2413</td>\n",
       "      <td>[{'cast_id': 1, 'character': 'Alan Parrish', '...</td>\n",
       "      <td>[{'credit_id': '52fe44bfc3a36847f80a7cd1', 'de...</td>\n",
       "      <td>1995</td>\n",
       "      <td>4.043035</td>\n",
       "    </tr>\n",
       "  </tbody>\n",
       "</table>\n",
       "</div>"
      ],
      "text/plain": [
       "     budget                                             genres    id  \\\n",
       "0  30000000  [{'id': 16, 'name': 'Animation'}, {'id': 35, '...   862   \n",
       "1  65000000  [{'id': 12, 'name': 'Adventure'}, {'id': 14, '...  8844   \n",
       "\n",
       "  original_language  popularity release_date      revenue    status  \\\n",
       "0                en   21.946943   1995-10-30  373554033.0  Released   \n",
       "1                en   17.015539   1995-12-15  262797249.0  Released   \n",
       "\n",
       "       title  vote_average  vote_count  \\\n",
       "0  Toy Story           7.7        5415   \n",
       "1    Jumanji           6.9        2413   \n",
       "\n",
       "                                                cast  \\\n",
       "0  [{'cast_id': 14, 'character': 'Woody (voice)',...   \n",
       "1  [{'cast_id': 1, 'character': 'Alan Parrish', '...   \n",
       "\n",
       "                                                crew  year     return  \n",
       "0  [{'credit_id': '52fe4284c3a36847f8024f49', 'de...  1995  12.451801  \n",
       "1  [{'credit_id': '52fe44bfc3a36847f80a7cd1', 'de...  1995   4.043035  "
      ]
     },
     "execution_count": 11,
     "metadata": {},
     "output_type": "execute_result"
    }
   ],
   "source": [
    "df_inner_movies_credits.head(2)"
   ]
  },
  {
   "cell_type": "code",
   "execution_count": 13,
   "metadata": {},
   "outputs": [
    {
     "data": {
      "text/plain": [
       "(11444, 15)"
      ]
     },
     "execution_count": 13,
     "metadata": {},
     "output_type": "execute_result"
    }
   ],
   "source": [
    "#Se hace reducción del dataset eliminando valores nulos y filas con datos que no serán usados para las consultas\n",
    "#También se filtra el dataset para reducir el número de registros\n",
    "df_inner_movies_credits.dropna(inplace=True)\n",
    "drop_language = ['en', 'fr', 'it', 'de', 'ar', 'es','uk']\n",
    "df_inner_movies_credits.query(\"status == 'Released' and popularity >= 3.0 and release_date >= '1950-1-1' and original_language == @drop_language\", inplace=True)\n",
    "df_inner_movies_credits.reset_index(drop=True, inplace=True)\n",
    "df_inner_movies_credits.shape"
   ]
  },
  {
   "cell_type": "code",
   "execution_count": 14,
   "metadata": {},
   "outputs": [],
   "source": [
    "#Desanidación de columna 'genre' e incorporación a dataset original\n",
    "df_generos = pd.DataFrame(columns=['genres'])   #Se crea df auxiliar\n",
    "for index_1, row_1 in df_inner_movies_credits.iterrows():     #Se itera sobre la columna 'genre' con la información anidada\n",
    "    x = ast.literal_eval(row_1['genres'])       #Se transforma a un objeto lista\n",
    "    df_dict = pd.DataFrame.from_dict(x)         #Se crea un df\n",
    "    \n",
    "    ls = []\n",
    "    \n",
    "    for index_2, row_2 in df_dict.iterrows():   #Se itera sobre el df_dict para extraer todos los datos de la columna 'name' y se agregan a la lista\n",
    "        ls.append(row_2['name'])\n",
    "    \n",
    "    df_generos.loc[index_1, 'genres'] = ls      #Se agrega la información al df auxiliar\n",
    "\n",
    "#Se reemplazan las columnas en el df original\n",
    "df_inner_movies_credits.drop(labels='genres', axis=1, inplace=True)\n",
    "df_inner_movies_credits = pd.concat([df_inner_movies_credits, df_generos], axis=1)"
   ]
  },
  {
   "cell_type": "code",
   "execution_count": 15,
   "metadata": {},
   "outputs": [],
   "source": [
    "#Creamos iteraciones por las columnas de 'crew' y 'cast' bajo el mismo concepto de las funciones anteriores\n",
    "#para extraer todos los registros de nombre de actores, nombres del equipo y trabajo y almacenarlos en listas\n",
    "\n",
    "ls_name_crew = []  \n",
    "for index, row in df_inner_movies_credits.iterrows():      \n",
    "    for index in ast.literal_eval(row['crew']):\n",
    "        ls_name_crew.append(index['name'])\n",
    "\n",
    "ls_job_crew = []  \n",
    "for index, row in df_inner_movies_credits.iterrows():      \n",
    "    for index in ast.literal_eval(row['crew']):\n",
    "        ls_job_crew.append(index['job'])\n",
    "\n",
    "ls_name_cast = []  \n",
    "for index, row in df_inner_movies_credits.iterrows():      \n",
    "    for index in ast.literal_eval(row['crew']):\n",
    "        ls_name_cast.append(index['name'])"
   ]
  },
  {
   "cell_type": "code",
   "execution_count": 16,
   "metadata": {},
   "outputs": [],
   "source": [
    "#Se crean los dataframes referentes al cast y al crew\n",
    "df_cast = pd.DataFrame((zip(ls_name_cast)), columns = ['name'])\n",
    "df_crew = pd.DataFrame((zip(ls_name_crew, ls_job_crew)), columns = ['name', 'job'])"
   ]
  },
  {
   "cell_type": "code",
   "execution_count": 17,
   "metadata": {},
   "outputs": [
    {
     "data": {
      "text/plain": [
       "(3541, 1)"
      ]
     },
     "execution_count": 17,
     "metadata": {},
     "output_type": "execute_result"
    }
   ],
   "source": [
    "#Se hace un join con el fin de cruzar la información entre ambos dataframes y poder conocer los actores que son directores\n",
    "df_directores = pd.merge(df_cast, df_crew, on='name', how='left')\n",
    "\n",
    "#Se hace una normalización para limpiar los registros duplicados y que no sirvan\n",
    "df_directores.drop_duplicates('name', keep='first', inplace=True)\n",
    "df_directores.reset_index(drop=True, inplace=True)\n",
    "df_directores.query('job == \"Director\"', inplace=True)\n",
    "df_directores.drop(labels='job', axis=1, inplace=True)\n",
    "df_directores.shape"
   ]
  },
  {
   "cell_type": "code",
   "execution_count": 18,
   "metadata": {},
   "outputs": [],
   "source": [
    "#Funciones para la desanidación de las columnas de 'cast' y 'crew'\n",
    "def actores(texto):\n",
    "    lista = []                              #Crea una lista vacía donde agrega los strings iterados\n",
    "    contador = 0                            #Iniciamos contador para extraer el actor principal\n",
    "    for i in ast.literal_eval(texto):       #Se comienza la iteración con la función ast.literal_eval() que permite la iteración como un diccionario\n",
    "        if contador < 1:\n",
    "            lista.append(i['name'])         #se agrega el valor iterado dentro de la clave 'name' a la lista\n",
    "        contador += 1\n",
    "    return lista\n",
    "\n",
    "def directores(texto):\n",
    "    lista = []    \n",
    "    for i in ast.literal_eval(texto):\n",
    "        if i['job'] == 'Director':\n",
    "            lista.append(i['name'])\n",
    "    return lista"
   ]
  },
  {
   "cell_type": "code",
   "execution_count": 19,
   "metadata": {},
   "outputs": [
    {
     "data": {
      "text/html": [
       "<div>\n",
       "<style scoped>\n",
       "    .dataframe tbody tr th:only-of-type {\n",
       "        vertical-align: middle;\n",
       "    }\n",
       "\n",
       "    .dataframe tbody tr th {\n",
       "        vertical-align: top;\n",
       "    }\n",
       "\n",
       "    .dataframe thead th {\n",
       "        text-align: right;\n",
       "    }\n",
       "</style>\n",
       "<table border=\"1\" class=\"dataframe\">\n",
       "  <thead>\n",
       "    <tr style=\"text-align: right;\">\n",
       "      <th></th>\n",
       "      <th>budget</th>\n",
       "      <th>id</th>\n",
       "      <th>original_language</th>\n",
       "      <th>popularity</th>\n",
       "      <th>release_date</th>\n",
       "      <th>revenue</th>\n",
       "      <th>status</th>\n",
       "      <th>title</th>\n",
       "      <th>vote_average</th>\n",
       "      <th>vote_count</th>\n",
       "      <th>cast</th>\n",
       "      <th>crew</th>\n",
       "      <th>year</th>\n",
       "      <th>return</th>\n",
       "      <th>genres</th>\n",
       "    </tr>\n",
       "  </thead>\n",
       "  <tbody>\n",
       "    <tr>\n",
       "      <th>0</th>\n",
       "      <td>30000000</td>\n",
       "      <td>862</td>\n",
       "      <td>en</td>\n",
       "      <td>21.946943</td>\n",
       "      <td>1995-10-30</td>\n",
       "      <td>373554033.0</td>\n",
       "      <td>Released</td>\n",
       "      <td>Toy Story</td>\n",
       "      <td>7.7</td>\n",
       "      <td>5415</td>\n",
       "      <td>Tom Hanks</td>\n",
       "      <td>[John Lasseter]</td>\n",
       "      <td>1995</td>\n",
       "      <td>12.451801</td>\n",
       "      <td>[Animation, Comedy, Family]</td>\n",
       "    </tr>\n",
       "    <tr>\n",
       "      <th>1</th>\n",
       "      <td>65000000</td>\n",
       "      <td>8844</td>\n",
       "      <td>en</td>\n",
       "      <td>17.015539</td>\n",
       "      <td>1995-12-15</td>\n",
       "      <td>262797249.0</td>\n",
       "      <td>Released</td>\n",
       "      <td>Jumanji</td>\n",
       "      <td>6.9</td>\n",
       "      <td>2413</td>\n",
       "      <td>Robin Williams</td>\n",
       "      <td>[Joe Johnston]</td>\n",
       "      <td>1995</td>\n",
       "      <td>4.043035</td>\n",
       "      <td>[Adventure, Fantasy, Family]</td>\n",
       "    </tr>\n",
       "    <tr>\n",
       "      <th>2</th>\n",
       "      <td>0</td>\n",
       "      <td>15602</td>\n",
       "      <td>en</td>\n",
       "      <td>11.712900</td>\n",
       "      <td>1995-12-22</td>\n",
       "      <td>0.0</td>\n",
       "      <td>Released</td>\n",
       "      <td>Grumpier Old Men</td>\n",
       "      <td>6.5</td>\n",
       "      <td>92</td>\n",
       "      <td>Walter Matthau</td>\n",
       "      <td>[Howard Deutch]</td>\n",
       "      <td>1995</td>\n",
       "      <td>0.000000</td>\n",
       "      <td>[Romance, Comedy]</td>\n",
       "    </tr>\n",
       "  </tbody>\n",
       "</table>\n",
       "</div>"
      ],
      "text/plain": [
       "     budget     id original_language  popularity release_date      revenue  \\\n",
       "0  30000000    862                en   21.946943   1995-10-30  373554033.0   \n",
       "1  65000000   8844                en   17.015539   1995-12-15  262797249.0   \n",
       "2         0  15602                en   11.712900   1995-12-22          0.0   \n",
       "\n",
       "     status             title  vote_average  vote_count            cast  \\\n",
       "0  Released         Toy Story           7.7        5415       Tom Hanks   \n",
       "1  Released           Jumanji           6.9        2413  Robin Williams   \n",
       "2  Released  Grumpier Old Men           6.5          92  Walter Matthau   \n",
       "\n",
       "              crew  year     return                        genres  \n",
       "0  [John Lasseter]  1995  12.451801   [Animation, Comedy, Family]  \n",
       "1   [Joe Johnston]  1995   4.043035  [Adventure, Fantasy, Family]  \n",
       "2  [Howard Deutch]  1995   0.000000             [Romance, Comedy]  "
      ]
     },
     "execution_count": 19,
     "metadata": {},
     "output_type": "execute_result"
    }
   ],
   "source": [
    "#Se pasa la función anterior por cada elemento de la columna para desanidar la información\n",
    "df_inner_movies_credits['cast'] = df_inner_movies_credits['cast'].apply(actores)\n",
    "df_inner_movies_credits['crew'] = df_inner_movies_credits['crew'].apply(directores)\n",
    "df_inner_movies_credits['cast'] = df_inner_movies_credits['cast'].apply(lambda x: ', '.join(x)) #Transformamos a string la columna de cast para poder usar de manera más fácil al actor\n",
    "df_inner_movies_credits.head(3)"
   ]
  },
  {
   "cell_type": "code",
   "execution_count": 20,
   "metadata": {},
   "outputs": [],
   "source": [
    "#Se guardan los datasets\n",
    "df_inner_movies_credits.to_csv('C:\\Python\\HENRY-Data-Science\\Proyecto_1\\Datasets\\joined_dataset.csv', index=False)\n",
    "df_directores.to_csv('C:\\Python\\HENRY-Data-Science\\Proyecto_1\\Datasets\\directores.csv', index=False)"
   ]
  },
  {
   "cell_type": "markdown",
   "metadata": {},
   "source": [
    "Se crean las funciones"
   ]
  },
  {
   "cell_type": "code",
   "execution_count": null,
   "metadata": {},
   "outputs": [],
   "source": [
    "#Cargamos los dataset normalizados\n",
    "df = pd.read_csv('C:\\Python\\HENRY-Data-Science\\Proyecto_1\\Datasets\\joined_dataset.csv')\n",
    "df_dir = pd.read_csv('C:\\Python\\HENRY-Data-Science\\Proyecto_1\\Datasets\\directores.csv')\n",
    "df['release_date'] = pd.to_datetime(df['release_date'], errors='coerce') #Transformamos columna de fechas en formato válido de fechas python"
   ]
  },
  {
   "cell_type": "markdown",
   "metadata": {},
   "source": [
    "def **cantidad_filmaciones_mes( *`Mes`* )**:\n",
    "Se ingresa un mes en idioma Español. Debe devolver la cantidad de películas que fueron estrenadas en el mes consultado en la totalidad del dataset."
   ]
  },
  {
   "cell_type": "code",
   "execution_count": null,
   "metadata": {},
   "outputs": [],
   "source": [
    "def cantidad_filmaciones_mes(mes):    \n",
    "    \n",
    "#La función toma la columna de fechas y las agrupa según el mes y a través de un formato condicional determina a que mes corresponde el texto que\n",
    "#ingresamos y devuelve la cantidad de alementos en el grupo\n",
    "\n",
    "    if mes == 'enero':\n",
    "        ser = pd.Series(df['release_date'].groupby(df.release_date.dt.month == 1).count())\n",
    "        x = int(ser.iloc[1])\n",
    "    elif mes == 'febrero':\n",
    "        ser = pd.Series(df['release_date'].groupby(df.release_date.dt.month == 2).count())\n",
    "        x = int(ser.iloc[1])\n",
    "    elif mes == 'marzo':\n",
    "        ser = pd.Series(df['release_date'].groupby(df.release_date.dt.month == 3).count())\n",
    "        x = int(ser.iloc[1])\n",
    "    elif mes == 'abril':\n",
    "        ser = pd.Series(df['release_date'].groupby(df.release_date.dt.month == 4).count())\n",
    "        x = int(ser.iloc[1])\n",
    "    elif mes == 'mayo':\n",
    "        ser = pd.Series(df['release_date'].groupby(df.release_date.dt.month == 5).count())\n",
    "        x = int(ser.iloc[1])\n",
    "    elif mes == 'junio':\n",
    "        ser = pd.Series(df['release_date'].groupby(df.release_date.dt.month == 6).count())\n",
    "        x = int(ser.iloc[1])\n",
    "    elif mes == 'julio':\n",
    "        ser = pd.Series(df['release_date'].groupby(df.release_date.dt.month == 7).count())\n",
    "        x = int(ser.iloc[1])\n",
    "    elif mes == 'agosto':\n",
    "        ser = pd.Series(df['release_date'].groupby(df.release_date.dt.month == 8).count())\n",
    "        x = int(ser.iloc[1])\n",
    "    elif mes == 'septiembre':\n",
    "        ser = pd.Series(df['release_date'].groupby(df.release_date.dt.month == 9).count())\n",
    "        x = int(ser.iloc[1])\n",
    "    elif mes == 'octubre':\n",
    "        ser = pd.Series(df['release_date'].groupby(df.release_date.dt.month == 10).count())\n",
    "        x = int(ser.iloc[1])\n",
    "    elif mes == 'noviembre':\n",
    "        ser = pd.Series(df['release_date'].groupby(df.release_date.dt.month == 11).count())\n",
    "        x = int(ser.iloc[1])\n",
    "    elif mes == 'diciembre':\n",
    "        ser = pd.Series(df['release_date'].groupby(df.release_date.dt.month == 12).count())\n",
    "        x = int(ser.iloc[1])\n",
    "        \n",
    "    print(f\"{x} cantidad de películas fueron estrenadas en el mes de {mes}\")"
   ]
  },
  {
   "cell_type": "code",
   "execution_count": 29,
   "metadata": {},
   "outputs": [
    {
     "name": "stdout",
     "output_type": "stream",
     "text": [
      "901 cantidad de películas fueron estrenadas en el mes de enero\n"
     ]
    }
   ],
   "source": [
    "cantidad_filmaciones_mes('enero')"
   ]
  },
  {
   "cell_type": "markdown",
   "metadata": {},
   "source": [
    "def **cantidad_filmaciones_dia( *`Dia`* )**:\n",
    "Se ingresa un día en idioma Español. Debe devolver la cantidad de películas que fueron estrenadas en día consultado en la totalidad del dataset."
   ]
  },
  {
   "cell_type": "code",
   "execution_count": null,
   "metadata": {},
   "outputs": [],
   "source": [
    "#La función toma la columna de fechas y las agrupa según el día de la semana y a través de un formato condicional \n",
    "# determina a que día de la semana corresponde el texto que ingresamos y devuelve la cantidad de alementos en el grupo\n",
    "\n",
    "def cantidad_filmaciones_dia(dia):\n",
    "    if dia == 'domingo':\n",
    "        matriz = pd.Series(df['release_date'].groupby(df.release_date.dt.day_name()).count())\n",
    "        x = int(matriz.iloc[3])\n",
    "    if dia == 'lunes':\n",
    "        matriz = pd.Series(df['release_date'].groupby(df.release_date.dt.day_name()).count())\n",
    "        x = int(matriz.iloc[1])\n",
    "    if dia == 'martes':\n",
    "        matriz = pd.Series(df['release_date'].groupby(df.release_date.dt.day_name()).count())\n",
    "        x = int(matriz.iloc[5])\n",
    "    if dia == 'miercoles':\n",
    "        matriz = pd.Series(df['release_date'].groupby(df.release_date.dt.day_name()).count())\n",
    "        x = int(matriz.iloc[6])\n",
    "    if dia == 'jueves':\n",
    "        matriz = pd.Series(df['release_date'].groupby(df.release_date.dt.day_name()).count())\n",
    "        x = int(matriz.iloc[4])\n",
    "    if dia == 'viernes':\n",
    "        matriz = pd.Series(df['release_date'].groupby(df.release_date.dt.day_name()).count())\n",
    "        x = int(matriz.iloc[0])\n",
    "    if dia == 'sabado':\n",
    "        matriz = pd.Series(df['release_date'].groupby(df.release_date.dt.day_name()).count())\n",
    "        x = int(matriz.iloc[2])\n",
    "        \n",
    "    print(f\"{x} cantidad de películas fueron estrenadas en los días {dia}\")"
   ]
  },
  {
   "cell_type": "code",
   "execution_count": 30,
   "metadata": {},
   "outputs": [
    {
     "name": "stdout",
     "output_type": "stream",
     "text": [
      "1070 cantidad de películas fueron estrenadas en los días martes\n"
     ]
    }
   ],
   "source": [
    "cantidad_filmaciones_dia('martes')"
   ]
  },
  {
   "cell_type": "markdown",
   "metadata": {},
   "source": [
    "def **score_titulo( *`titulo_de_la_filmación`* )**:\n",
    "Se ingresa el título de una filmación esperando como respuesta el título, el año de estreno y el score."
   ]
  },
  {
   "cell_type": "code",
   "execution_count": null,
   "metadata": {},
   "outputs": [],
   "source": [
    "def score_titulo(titulo_de_la_filmacion):\n",
    "\n",
    "\n",
    "    row_number = df.index.get_loc(df[df['title'] == titulo_de_la_filmacion].index[0]) #Obtenemos el indice de fila del título\n",
    "    anio = int(df['year'][row_number]) #y lo usamos para acceder al año de estreno y la popularidad\n",
    "    score = float(df['popularity'][row_number])    \n",
    "\n",
    "    print(f'La película {titulo_de_la_filmacion} fue estrenada en el año {anio} con un score/popularidad de {score}')"
   ]
  },
  {
   "cell_type": "code",
   "execution_count": 31,
   "metadata": {},
   "outputs": [
    {
     "name": "stdout",
     "output_type": "stream",
     "text": [
      "La película Star Wars fue estrenada en el año 1977 con un score/popularidad de 42.149697\n"
     ]
    }
   ],
   "source": [
    "score_titulo('Star Wars')"
   ]
  },
  {
   "cell_type": "markdown",
   "metadata": {},
   "source": [
    "def **votos_titulo( *`titulo_de_la_filmación`* )**:\n",
    "Se ingresa el título de una filmación esperando como respuesta el título, la cantidad de votos y el valor promedio de las votaciones. La misma variable deberá de contar con al menos 2000 valoraciones, caso contrario, debemos contar con un mensaje avisando que no cumple esta condición y que por ende, no se devuelve ningun valor."
   ]
  },
  {
   "cell_type": "code",
   "execution_count": null,
   "metadata": {},
   "outputs": [],
   "source": [
    "def votos_titulo(titulo_de_la_filmacion):\n",
    "    \n",
    "    row_number = df.index.get_loc(df[df['title'] == titulo_de_la_filmacion].index[0]) #Obtenemos el indice de fila del título\n",
    "    anio = int(df['year'][row_number])    #y lo usamos para acceder al año de estreno, promedio de votos y cantidad de votos\n",
    "    promedio = float(df['vote_average'][row_number])\n",
    "    val = int(df['vote_count'][row_number])\n",
    "    if int(df['vote_count'][row_number]) >= 2000: #Aplicamos un condicional para que sólo devuelva películas con 2000 o más valoraciones\n",
    "        print(f'La película {titulo_de_la_filmacion} fue estrenada en el año {anio}. La misma cuenta con un total de {val} valoraciones, con un promedio de {promedio}')\n",
    "    else:\n",
    "        print('La película tiene menos de 2000 valoraciones')"
   ]
  },
  {
   "cell_type": "code",
   "execution_count": 32,
   "metadata": {},
   "outputs": [
    {
     "name": "stdout",
     "output_type": "stream",
     "text": [
      "La película Jumanji fue estrenada en el año 1995. La misma cuenta con un total de 2413 valoraciones, con un promedio de 6.9\n"
     ]
    }
   ],
   "source": [
    "votos_titulo('Jumanji')"
   ]
  },
  {
   "cell_type": "markdown",
   "metadata": {},
   "source": [
    "def **get_actor( *`nombre_actor`* )**:\n",
    "Se ingresa el nombre de un actor que se encuentre dentro de un dataset debiendo devolver el éxito del mismo medido a través del retorno. Además, la cantidad de películas que en las que ha participado y el promedio de retorno. **La definición no deberá considerar directores.**"
   ]
  },
  {
   "cell_type": "code",
   "execution_count": null,
   "metadata": {},
   "outputs": [],
   "source": [
    "def get_actor(nombre_actor):\n",
    "    #Se usarán 2 datasets. uno las películas y la información general y otro con un listado de directores\n",
    "    director = df_dir.query('name == @nombre_actor') #Usamos el método query() para filtrar sólo por el actor que pasamos en los parámetros en el\n",
    "                                                    #dataset de los directores\n",
    "    existencia = director['name'].count() #Contamos cuantas existencias tiene ese actor en dicho dataset\n",
    "\n",
    "    if existencia > 0: #Si tiene mayor a 0 existencias, la función no cumple requisitos y retorna un mensaje de error\n",
    "        return 'El actor ha trabajado como director'\n",
    "\n",
    "    #Si no hay existencias\n",
    "    else:\n",
    "        matriz = df.query('cast == @nombre_actor')  #Filtramos nuevamente por el actor\n",
    "        peliculas = matriz['id'].count() #Contamos la cantidad de películas en las que ha participado a través de 'id'\n",
    "        retorno = matriz['return'].sum() # Sumamos los retornos de cada película para el actor\n",
    "        promedio = matriz['return'].mean() #Sacamos la media del retorno de todas las películas\n",
    "\n",
    "        return f'El actor {nombre_actor} ha participado de {peliculas} cantidad de filmaciones, el mismo ha conseguido un retorno de {retorno} con un promedio de {promedio} por filmación'\n",
    "    "
   ]
  },
  {
   "cell_type": "code",
   "execution_count": 47,
   "metadata": {},
   "outputs": [
    {
     "data": {
      "text/plain": [
       "'El actor Robin Williams ha participado de 37 cantidad de filmaciones, el mismo ha conseguido un retorno de 106.68067502927421 con un promedio de 2.8832614872776814 por filmación'"
      ]
     },
     "execution_count": 47,
     "metadata": {},
     "output_type": "execute_result"
    }
   ],
   "source": [
    "get_actor('Robin Williams')"
   ]
  },
  {
   "cell_type": "code",
   "execution_count": 34,
   "metadata": {},
   "outputs": [
    {
     "name": "stdout",
     "output_type": "stream",
     "text": [
      "El actor ha trabajado como director\n"
     ]
    }
   ],
   "source": [
    "get_actor('Mel Gibson')"
   ]
  },
  {
   "cell_type": "markdown",
   "metadata": {},
   "source": [
    "def **get_director( *`nombre_director`* )**:\n",
    "Se ingresa el nombre de un director que se encuentre dentro de un dataset debiendo devolver el éxito del mismo medido a través del retorno. Además, deberá devolver el nombre de cada película con la fecha de lanzamiento, retorno individual, costo y ganancia de la misma."
   ]
  },
  {
   "cell_type": "code",
   "execution_count": null,
   "metadata": {},
   "outputs": [],
   "source": [
    "def get_director(nombre_director):\n",
    "    #Ordenamos el dataset para obtener las respuestas en orden de importancia según el retorno\n",
    "    df_ord = df.sort_values(by='return', ascending=False)  \n",
    "    \n",
    "    director = df_dir.query('name == @nombre_director') #Filtramos el dataframe por el nombre que andamos buscando\n",
    "    existencia = director['name'].count() #determinamos su existencia dentro del dataframe\n",
    "\n",
    "    if existencia == 0:\n",
    "        return 'El actor ha no trabajado como director'\n",
    "    \n",
    "    director_info = {nombre_director:[]}    #Creamos un diccionario donde guardaremos la información\n",
    "\n",
    "    for index, row in df_ord.iterrows():        #Iteramos sobre cada una de las filas y extraemos el título, la fecha de estreno, retorno,\n",
    "        if nombre_director in row['crew']:      #budget y revenue\n",
    "            peliculas = {\n",
    "                'title': df.iloc[index]['title'],\n",
    "                'release_date': df.iloc[index]['release_date'],\n",
    "                'return': float(df.iloc[index]['return']),\n",
    "                'budget': float(df.iloc[index]['budget']),\n",
    "                'revenue': float(df.iloc[index]['revenue'])\n",
    "            }\n",
    "            director_info[nombre_director].append(peliculas) #Agregamos cada diccionario a la lista para retornarlo en la salida\n",
    "    return director_info"
   ]
  },
  {
   "cell_type": "code",
   "execution_count": 64,
   "metadata": {},
   "outputs": [
    {
     "data": {
      "text/plain": [
       "{'Mel Gibson': [{'title': 'The Passion of the Christ',\n",
       "   'release_date': Timestamp('2004-02-25 00:00:00'),\n",
       "   'return': 20.39664733333333,\n",
       "   'budget': 30000000.0,\n",
       "   'revenue': 611899420.0},\n",
       "  {'title': 'Hacksaw Ridge',\n",
       "   'release_date': Timestamp('2016-10-07 00:00:00'),\n",
       "   'return': 4.38255885,\n",
       "   'budget': 40000000.0,\n",
       "   'revenue': 175302354.0},\n",
       "  {'title': 'Apocalypto',\n",
       "   'release_date': Timestamp('2006-12-07 00:00:00'),\n",
       "   'return': 3.00438225,\n",
       "   'budget': 40000000.0,\n",
       "   'revenue': 120175290.0},\n",
       "  {'title': 'Braveheart',\n",
       "   'release_date': Timestamp('1995-05-24 00:00:00'),\n",
       "   'return': 2.9166666666666665,\n",
       "   'budget': 72000000.0,\n",
       "   'revenue': 210000000.0},\n",
       "  {'title': 'The Man without a Face',\n",
       "   'release_date': Timestamp('1993-08-25 00:00:00'),\n",
       "   'return': 0.0,\n",
       "   'budget': 0.0,\n",
       "   'revenue': 24760338.0}]}"
      ]
     },
     "execution_count": 64,
     "metadata": {},
     "output_type": "execute_result"
    }
   ],
   "source": [
    "get_director('Mel Gibson')"
   ]
  },
  {
   "cell_type": "code",
   "execution_count": 56,
   "metadata": {},
   "outputs": [
    {
     "data": {
      "text/plain": [
       "'El actor ha no trabajado como director'"
      ]
     },
     "execution_count": 56,
     "metadata": {},
     "output_type": "execute_result"
    }
   ],
   "source": [
    "get_director('Robin Williams')"
   ]
  }
 ],
 "metadata": {
  "kernelspec": {
   "display_name": "proyectouno",
   "language": "python",
   "name": "python3"
  },
  "language_info": {
   "codemirror_mode": {
    "name": "ipython",
    "version": 3
   },
   "file_extension": ".py",
   "mimetype": "text/x-python",
   "name": "python",
   "nbconvert_exporter": "python",
   "pygments_lexer": "ipython3",
   "version": "3.11.0"
  }
 },
 "nbformat": 4,
 "nbformat_minor": 2
}
